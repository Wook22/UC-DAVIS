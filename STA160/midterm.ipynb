{
 "cells": [
  {
   "cell_type": "markdown",
   "metadata": {},
   "source": [
    "### Introduction"
   ]
  },
  {
   "cell_type": "markdown",
   "metadata": {},
   "source": [
    "\n",
    "Throughout our analysis, we will be using a large data of Asteroids - NeoWs. We will discusses the factors that might be usefull to identify an asteroid as potentially hazardous or not. Also we will explains the classification power of those remaining factors in the absence of absolute magnitude and minimum orbit intersection values. \n",
    "\n",
    "Near Earth Objects (NEOs) are comets and asteroids that have been nudged by the gravitational attraction of nearby planets into orbits that allow them to enter the Earth’s neighborhood. The scientific interest in comets and asteroids is due largely to their status as the relatively unchanged remnant debris from the solar system formation process some 4.6 billion years ago. As the primitive, leftover building blocks of the solar system formation process, comets and asteroids offer clues to the chemical mixture from which the planets formed some 4.6 billion years ago. "
   ]
  },
  {
   "cell_type": "markdown",
   "metadata": {},
   "source": [
    "### Data"
   ]
  },
  {
   "cell_type": "markdown",
   "metadata": {},
   "source": [
    "The data is about Asteroids - NeoWs. NeoWs (Near Earth Object Web Service) is a RESTful web service for near earth Asteroid information. With NeoWs a user can: search for Asteroids based on their closest approach date to Earth, lookup a specific Asteroid with its NASA JPL small body id, as well as browse the overall data-set.\n",
    "\n",
    "Acknowledgements Data-set: All the data is from the (http://neo.jpl.nasa.gov/). This API is maintained by SpaceRocks Team: David Greenfield, Arezu Sarvestani, Jason English and Peter Baunach."
   ]
  },
  {
   "cell_type": "markdown",
   "metadata": {},
   "source": [
    "### Tasks"
   ]
  },
  {
   "cell_type": "markdown",
   "metadata": {},
   "source": [
    "\n",
    "* Develop a model that predicts if an asteroid is going to be hazardous or not\n",
    "\n",
    "To tackle this task I'll use the methods listed below, and extract the results from the method with best performance on unseen data.\n"
   ]
  },
  {
   "cell_type": "code",
   "execution_count": null,
   "metadata": {},
   "outputs": [],
   "source": [
    "# Libraries & Data import\n",
    "\n",
    "import pandas as pd\n",
    "import numpy as np\n",
    "import matplotlib.pyplot as plt\n",
    "import seaborn as sns"
   ]
  },
  {
   "cell_type": "markdown",
   "metadata": {},
   "source": [
    "### Data Exploration"
   ]
  },
  {
   "cell_type": "markdown",
   "metadata": {},
   "source": [
    "To begin this exploratory analysis, first we will check the data. "
   ]
  },
  {
   "cell_type": "code",
   "execution_count": null,
   "metadata": {},
   "outputs": [],
   "source": [
    "# Data inspection\n",
    "df = pd.read_csv('nasa.csv')\n",
    "df.head()"
   ]
  },
  {
   "cell_type": "code",
   "execution_count": null,
   "metadata": {},
   "outputs": [],
   "source": [
    "df.shape"
   ]
  },
  {
   "cell_type": "code",
   "execution_count": null,
   "metadata": {},
   "outputs": [],
   "source": [
    "df.info()"
   ]
  },
  {
   "cell_type": "markdown",
   "metadata": {},
   "source": [
    "There are total of 00 different variables and among them 00 are numerical variables and 00 are Categorical variables.\n",
    "\n",
    "Neo Reference ID\t\n",
    "Name\t\n",
    "Absolute Magnitude\t\n",
    "Est Dia in KM(min)\t\n",
    "Est Dia in KM(max)\t\n",
    "Est Dia in M(min)\t\n",
    "Est Dia in M(max)\t\n",
    "Est Dia in Miles(min)\t\n",
    "Est Dia in Miles(max)\t\n",
    "Est Dia in Feet(min)\t\n",
    "Est Dia in Feet(max)\t\n",
    "Close Approach Date\t\n",
    "Epoch Date Close Approach\t\n",
    "Relative Velocity km per sec\t\n",
    "Relative Velocity km per hr\t\n",
    "Miles per hour\n",
    "Miss Dist.(Astronomical)\t\n",
    "Miss Dist.(lunar)\t\n",
    "Miss Dist.(kilometers)\t\n",
    "Miss Dist.(miles)\t\n",
    "Orbiting Body\t\n",
    "Orbit ID\t\n",
    "Orbit Determination Date\t\n",
    "Orbit Uncertainity\t\n",
    "Minimum Orbit Intersection\t\n",
    "Jupiter Tisserand Invariant\t\n",
    "Epoch Osculation\t\n",
    "Eccentricity\t\n",
    "Semi Major Axis\t\n",
    "Inclination\t\n",
    "Asc Node Longitude\t\n",
    "Orbital Period\t\n",
    "Perihelion Distance\t\n",
    "Perihelion Arg\t\n",
    "Aphelion Dist\t\n",
    "Perihelion Time\t\n",
    "Mean Anomaly\t\n",
    "Mean Motion\t\n",
    "Equinox\t\n",
    "Hazardous\n"
   ]
  },
  {
   "cell_type": "markdown",
   "metadata": {},
   "source": [
    "Next, use matplotlib to import libraries and define functions for plotting the data."
   ]
  },
  {
   "cell_type": "code",
   "execution_count": null,
   "metadata": {},
   "outputs": [],
   "source": [
    "# Data visualizaion"
   ]
  },
  {
   "cell_type": "markdown",
   "metadata": {},
   "source": [
    "### Analysis"
   ]
  },
  {
   "cell_type": "code",
   "execution_count": null,
   "metadata": {},
   "outputs": [],
   "source": [
    "# Categorical relationship"
   ]
  },
  {
   "cell_type": "markdown",
   "metadata": {},
   "source": [
    "### Data Splitting"
   ]
  },
  {
   "cell_type": "code",
   "execution_count": null,
   "metadata": {},
   "outputs": [],
   "source": [
    "# machine learning"
   ]
  },
  {
   "cell_type": "markdown",
   "metadata": {},
   "source": [
    "### Conclusion"
   ]
  }
 ],
 "metadata": {
  "interpreter": {
   "hash": "3c178aea58de6e77b93b19ccdcc6dacff0444b89d2a7888d60013d84570d1a9a"
  },
  "kernelspec": {
   "display_name": "Python 3.8.8 ('base')",
   "language": "python",
   "name": "python3"
  },
  "language_info": {
   "name": "python",
   "version": "3.8.8"
  },
  "orig_nbformat": 4
 },
 "nbformat": 4,
 "nbformat_minor": 2
}
