{
 "cells": [
  {
   "cell_type": "code",
   "execution_count": 23,
   "metadata": {},
   "outputs": [],
   "source": [
    "import pandas as pd\n",
    "import numpy as np\n",
    "import matplotlib.pyplot as plt\n",
    "from sklearn.preprocessing import PolynomialFeatures as PF\n",
    "from sklearn.model_selection import train_test_split\n",
    "from sklearn.model_selection import LeaveOneOut\n",
    "from sklearn.model_selection import cross_val_score\n",
    "from sklearn.linear_model import LinearRegression\n",
    "import sklearn.linear_model as skl_lm\n",
    "from sklearn.preprocessing import PolynomialFeatures\n",
    "from sklearn.model_selection import KFold\n",
    "from statsmodels.formula.api import glm"
   ]
  },
  {
   "cell_type": "markdown",
   "metadata": {},
   "source": [
    "(a)"
   ]
  },
  {
   "cell_type": "code",
   "execution_count": 24,
   "metadata": {},
   "outputs": [],
   "source": [
    "np . random . seed (2020)\n",
    "x = np.random.normal(0,1,100)\n",
    "y = x - 2*x**2 + np.random.normal(0, 1, 100)"
   ]
  },
  {
   "cell_type": "markdown",
   "metadata": {},
   "source": [
    "(b)"
   ]
  },
  {
   "cell_type": "code",
   "execution_count": 25,
   "metadata": {},
   "outputs": [
    {
     "data": {
      "image/png": "[encoded data removed]",
      "text/plain": [
       "<Figure size 432x288 with 1 Axes>"
      ]
     },
     "metadata": {
      "needs_background": "light"
     },
     "output_type": "display_data"
    }
   ],
   "source": [
    "plt.scatter(x, y, alpha=0.5)\n",
    "plt.show()"
   ]
  },
  {
   "cell_type": "markdown",
   "metadata": {},
   "source": [
    "(c)"
   ]
  },
  {
   "cell_type": "code",
   "execution_count": 26,
   "metadata": {},
   "outputs": [],
   "source": [
    "np.random.seed(1)\n",
    "\n",
    "x = np.random.normal(0,1,100)\n",
    "y = x - 2 * x**2 + np.random.normal(0,1,100)\n",
    "\n",
    "d = {'x':x, 'y':y}\n",
    "df = pd.DataFrame(data=d)\n",
    "\n",
    "model = glm('y ~ x', df)\n",
    "\n",
    "lm = skl_lm.LinearRegression()\n",
    "\n",
    "x_arr = np.array(x).reshape(-1,1)\n",
    "y_train = np.array(y).reshape(-1,1)\n",
    "\n",
    "model = lm.fit(x_arr, y_train)\n",
    "\n",
    "poly = PolynomialFeatures(degree=2)\n",
    "x_train = poly.fit_transform(x_arr)\n",
    "\n",
    "model2 = lm.fit(x_train, y_train)"
   ]
  },
  {
   "cell_type": "code",
   "execution_count": 27,
   "metadata": {},
   "outputs": [
    {
     "data": {
      "text/plain": [
       "100"
      ]
     },
     "execution_count": 27,
     "metadata": {},
     "output_type": "execute_result"
    }
   ],
   "source": [
    "LOOCV = LeaveOneOut()\n",
    "LOOCV.get_n_splits(x_arr)"
   ]
  },
  {
   "cell_type": "code",
   "execution_count": 28,
   "metadata": {},
   "outputs": [
    {
     "name": "stdout",
     "output_type": "stream",
     "text": [
      "Degree-1 polynomial MSE: 6.238250004502408, STD: 4.011576337763809\n",
      "Degree-2 polynomial MSE: 0.9131601038696964, STD: 0.4347724030889471\n",
      "Degree-3 polynomial MSE: 0.9118181094477192, STD: 0.42334218150002323\n",
      "Degree-4 polynomial MSE: 0.8706041448824122, STD: 0.38616006497768296\n",
      "Degree-5 polynomial MSE: 0.8811362384227891, STD: 0.3849084176876693\n"
     ]
    }
   ],
   "source": [
    "crossvalidation = KFold(n_splits=10, random_state=None, shuffle=False)\n",
    "\n",
    "for i in range(1,6):\n",
    "    poly = PolynomialFeatures(degree=i)\n",
    "    X_current = poly.fit_transform(x_arr)\n",
    "    model = lm.fit(X_current, y)\n",
    "    scores = cross_val_score(model, X_current, y, scoring=\"neg_mean_squared_error\", cv=crossvalidation,\n",
    " n_jobs=1)\n",
    "    \n",
    "    print(\"Degree-\"+str(i)+\" polynomial MSE: \" + str(np.mean(np.abs(scores))) + \", STD: \" + str(np.std(scores)))"
   ]
  },
  {
   "cell_type": "markdown",
   "metadata": {},
   "source": [
    "(d)"
   ]
  },
  {
   "cell_type": "code",
   "execution_count": 34,
   "metadata": {},
   "outputs": [
    {
     "name": "stdout",
     "output_type": "stream",
     "text": [
      "Degree-1 polynomial MSE: 8.630688107962374, STD: 5.301205257778522\n",
      "Degree-2 polynomial MSE: 1.0349095873024967, STD: 0.2938914936341289\n",
      "Degree-3 polynomial MSE: 1.0787787765829544, STD: 0.33194362619116763\n",
      "Degree-4 polynomial MSE: 1.0817769059399036, STD: 0.3014838948115349\n",
      "Degree-5 polynomial MSE: 1.1063489227109367, STD: 0.30311117903975976\n"
     ]
    }
   ],
   "source": [
    "np.random.seed(111)\n",
    "\n",
    "x = np.random.normal(0,1,100)\n",
    "y = x - 2 * x**2 + np.random.normal(0,1,100)\n",
    "\n",
    "d = {'x':x, 'y':y}\n",
    "df = pd.DataFrame(data=d)\n",
    "\n",
    "lm = skl_lm.LinearRegression()\n",
    "\n",
    "x_arr = np.array(x).reshape(-1,1)\n",
    "y_train = np.array(y).reshape(-1,1)\n",
    "\n",
    "model = lm.fit(x_arr, y_train)\n",
    "\n",
    "poly = PolynomialFeatures(degree=2)\n",
    "x_train = poly.fit_transform(x_arr)\n",
    "\n",
    "model2 = lm.fit(x_train, y_train)\n",
    "\n",
    "LOOCV = LeaveOneOut()\n",
    "LOOCV.get_n_splits(x_arr)\n",
    "\n",
    "crossvalidation = KFold(n_splits=10, random_state=None, shuffle=False)\n",
    "\n",
    "for i in range(1,6):\n",
    "    poly = PolynomialFeatures(degree=i)\n",
    "    X_current = poly.fit_transform(x_arr)\n",
    "    model = lm.fit(X_current, y)\n",
    "    scores = cross_val_score(model, X_current, y, scoring=\"neg_mean_squared_error\", cv=crossvalidation,\n",
    " n_jobs=1)\n",
    "    \n",
    "    print(\"Degree-\"+str(i)+\" polynomial MSE: \" + str(np.mean(np.abs(scores))) + \", STD: \" + str(np.std(scores)))"
   ]
  },
  {
   "cell_type": "markdown",
   "metadata": {},
   "source": [
    "(e)"
   ]
  },
  {
   "cell_type": "markdown",
   "metadata": {},
   "source": [
    "(f)"
   ]
  },
  {
   "cell_type": "code",
   "execution_count": 30,
   "metadata": {},
   "outputs": [
    {
     "data": {
      "text/html": [
       "<table class=\"simpletable\">\n",
       "<caption>Generalized Linear Model Regression Results</caption>\n",
       "<tr>\n",
       "  <th>Dep. Variable:</th>           <td>y</td>        <th>  No. Observations:  </th>  <td>   100</td> \n",
       "</tr>\n",
       "<tr>\n",
       "  <th>Model:</th>                  <td>GLM</td>       <th>  Df Residuals:      </th>  <td>    95</td> \n",
       "</tr>\n",
       "<tr>\n",
       "  <th>Model Family:</th>        <td>Gaussian</td>     <th>  Df Model:          </th>  <td>     4</td> \n",
       "</tr>\n",
       "<tr>\n",
       "  <th>Link Function:</th>       <td>identity</td>     <th>  Scale:             </th> <td> 0.94468</td>\n",
       "</tr>\n",
       "<tr>\n",
       "  <th>Method:</th>                <td>IRLS</td>       <th>  Log-Likelihood:    </th> <td> -136.48</td>\n",
       "</tr>\n",
       "<tr>\n",
       "  <th>Date:</th>            <td>Fri, 11 Mar 2022</td> <th>  Deviance:          </th> <td>  89.745</td>\n",
       "</tr>\n",
       "<tr>\n",
       "  <th>Time:</th>                <td>12:55:27</td>     <th>  Pearson chi2:      </th>  <td>  89.7</td> \n",
       "</tr>\n",
       "<tr>\n",
       "  <th>No. Iterations:</th>          <td>3</td>        <th>                     </th>     <td> </td>   \n",
       "</tr>\n",
       "<tr>\n",
       "  <th>Covariance Type:</th>     <td>nonrobust</td>    <th>                     </th>     <td> </td>   \n",
       "</tr>\n",
       "</table>\n",
       "<table class=\"simpletable\">\n",
       "<tr>\n",
       "      <td></td>         <th>coef</th>     <th>std err</th>      <th>z</th>      <th>P>|z|</th>  <th>[0.025</th>    <th>0.975]</th>  \n",
       "</tr>\n",
       "<tr>\n",
       "  <th>Intercept</th> <td>    0.0011</td> <td>    0.144</td> <td>    0.007</td> <td> 0.994</td> <td>   -0.281</td> <td>    0.283</td>\n",
       "</tr>\n",
       "<tr>\n",
       "  <th>x</th>         <td>    0.9504</td> <td>    0.188</td> <td>    5.047</td> <td> 0.000</td> <td>    0.581</td> <td>    1.319</td>\n",
       "</tr>\n",
       "<tr>\n",
       "  <th>I(x ** 2)</th> <td>   -1.9558</td> <td>    0.220</td> <td>   -8.879</td> <td> 0.000</td> <td>   -2.388</td> <td>   -1.524</td>\n",
       "</tr>\n",
       "<tr>\n",
       "  <th>I(x ** 3)</th> <td>    0.0295</td> <td>    0.066</td> <td>    0.444</td> <td> 0.657</td> <td>   -0.101</td> <td>    0.160</td>\n",
       "</tr>\n",
       "<tr>\n",
       "  <th>I(x ** 4)</th> <td>    0.0031</td> <td>    0.050</td> <td>    0.062</td> <td> 0.951</td> <td>   -0.095</td> <td>    0.101</td>\n",
       "</tr>\n",
       "</table>"
      ],
      "text/plain": [
       "<class 'statsmodels.iolib.summary.Summary'>\n",
       "\"\"\"\n",
       "                 Generalized Linear Model Regression Results                  \n",
       "==============================================================================\n",
       "Dep. Variable:                      y   No. Observations:                  100\n",
       "Model:                            GLM   Df Residuals:                       95\n",
       "Model Family:                Gaussian   Df Model:                            4\n",
       "Link Function:               identity   Scale:                         0.94468\n",
       "Method:                          IRLS   Log-Likelihood:                -136.48\n",
       "Date:                Fri, 11 Mar 2022   Deviance:                       89.745\n",
       "Time:                        12:55:27   Pearson chi2:                     89.7\n",
       "No. Iterations:                     3                                         \n",
       "Covariance Type:            nonrobust                                         \n",
       "==============================================================================\n",
       "                 coef    std err          z      P>|z|      [0.025      0.975]\n",
       "------------------------------------------------------------------------------\n",
       "Intercept      0.0011      0.144      0.007      0.994      -0.281       0.283\n",
       "x              0.9504      0.188      5.047      0.000       0.581       1.319\n",
       "I(x ** 2)     -1.9558      0.220     -8.879      0.000      -2.388      -1.524\n",
       "I(x ** 3)      0.0295      0.066      0.444      0.657      -0.101       0.160\n",
       "I(x ** 4)      0.0031      0.050      0.062      0.951      -0.095       0.101\n",
       "==============================================================================\n",
       "\"\"\""
      ]
     },
     "execution_count": 30,
     "metadata": {},
     "output_type": "execute_result"
    }
   ],
   "source": [
    "formula4 = 'y ~ x + I(x**2) + I(x**3) + I(x**4)'\n",
    "\n",
    "\n",
    "model = glm(formula4, df)\n",
    "model.fit().summary()"
   ]
  }
 ],
 "metadata": {
  "interpreter": {
   "hash": "3c178aea58de6e77b93b19ccdcc6dacff0444b89d2a7888d60013d84570d1a9a"
  },
  "kernelspec": {
   "display_name": "Python 3.8.8 64-bit ('base': conda)",
   "language": "python",
   "name": "python3"
  },
  "language_info": {
   "codemirror_mode": {
    "name": "ipython",
    "version": 3
   },
   "file_extension": ".py",
   "mimetype": "text/x-python",
   "name": "python",
   "nbconvert_exporter": "python",
   "pygments_lexer": "ipython3",
   "version": "3.8.8"
  },
  "orig_nbformat": 4
 },
 "nbformat": 4,
 "nbformat_minor": 2
}
