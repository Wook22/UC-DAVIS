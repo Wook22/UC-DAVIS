{
 "cells": [
  {
   "cell_type": "code",
   "execution_count": 41,
   "metadata": {},
   "outputs": [],
   "source": [
    "import numpy as np\n",
    "import pandas as pd\n",
    "from matplotlib import pyplot as plt\n",
    "import matplotlib.colors as colors\n",
    "from mpl_toolkits.mplot3d import Axes3D\n",
    "from mpl_toolkits import mplot3d\n",
    "from sklearn.linear_model import LogisticRegression\n",
    "from sklearn.discriminant_analysis import LinearDiscriminantAnalysis\n",
    "import seaborn as sns\n",
    "import itertools\n",
    "\n",
    "%matplotlib inline\n",
    "sns.set()"
   ]
  },
  {
   "cell_type": "markdown",
   "metadata": {},
   "source": [
    "Problem 2"
   ]
  },
  {
   "cell_type": "code",
   "execution_count": 57,
   "metadata": {},
   "outputs": [],
   "source": [
    "def random(mu):\n",
    "    bin = np.where(np.random.binomial(1,0.5,100) == 0, -1, 1)\n",
    "    x_1 = np.where(bin == -1)\n",
    "    x_0 = np.where(bin != -1)\n",
    "    x1_n = bin[x_1].shape[0]\n",
    "    x0_n = bin[x_0].shape[0]\n",
    "    Y = np.repeat([1,-1],(x1_n,x0_n))\n",
    "\n",
    "    \n",
    "    X_1 = np.random.standard_t(1,x1_n) + mu\n",
    "    X_0 = np.random.standard_t(1,x0_n) \n",
    "\n",
    "    X = np.concatenate((X_1,X_0)).reshape(-1,1)\n",
    "    return X, Y\n"
   ]
  },
  {
   "cell_type": "code",
   "execution_count": 59,
   "metadata": {},
   "outputs": [
    {
     "data": {
      "text/html": [
       "<div>\n",
       "<style scoped>\n",
       "    .dataframe tbody tr th:only-of-type {\n",
       "        vertical-align: middle;\n",
       "    }\n",
       "\n",
       "    .dataframe tbody tr th {\n",
       "        vertical-align: top;\n",
       "    }\n",
       "\n",
       "    .dataframe thead th {\n",
       "        text-align: right;\n",
       "    }\n",
       "</style>\n",
       "<table border=\"1\" class=\"dataframe\">\n",
       "  <thead>\n",
       "    <tr style=\"text-align: right;\">\n",
       "      <th></th>\n",
       "      <th>LDA_mean</th>\n",
       "      <th>LDA_variance</th>\n",
       "      <th>Logistic_test_mean</th>\n",
       "      <th>Logistic_test_variance</th>\n",
       "    </tr>\n",
       "  </thead>\n",
       "  <tbody>\n",
       "    <tr>\n",
       "      <th>0</th>\n",
       "      <td>48.74</td>\n",
       "      <td>19.4124</td>\n",
       "      <td>37.85</td>\n",
       "      <td>25.2075</td>\n",
       "    </tr>\n",
       "  </tbody>\n",
       "</table>\n",
       "</div>"
      ],
      "text/plain": [
       "   LDA_mean  LDA_variance  Logistic_test_mean  Logistic_test_variance\n",
       "0     48.74       19.4124               37.85                 25.2075"
      ]
     },
     "execution_count": 59,
     "metadata": {},
     "output_type": "execute_result"
    }
   ],
   "source": [
    "Logistic_l = []\n",
    "LDA_l = []\n",
    "\n",
    "x_train, y_train = random(1)\n",
    "LOR = LogisticRegression()\n",
    "LDA = LinearDiscriminantAnalysis(n_components=1)\n",
    "LOR.fit(x_train,y_train)\n",
    "LDA.fit(x_train,y_train)\n",
    "\n",
    "for i in range(100):\n",
    "    x_test,y_test = random(1)\n",
    "    \n",
    "\n",
    "    Logistic_error = sum(y_test != LOR.predict(x_test))\n",
    "    LDA_error = sum(y_test != LDA.predict(x_test))\n",
    "    Logistic_l.append(Logistic_error)\n",
    "    LDA_l.append(LDA_error)\n",
    "\n",
    "data = {'LDA_mean': [np.mean(LDA_l)], 'LDA_variance': [np.var(LDA_l)], 'Logistic_test_mean': [np.mean(Logistic_l)], 'Logistic_test_variance': [np.var(Logistic_l)] }  \n",
    "df = pd.DataFrame(data)\n",
    "df"
   ]
  },
  {
   "cell_type": "code",
   "execution_count": 66,
   "metadata": {},
   "outputs": [
    {
     "data": {
      "image/png": "[encoded data removed]",
      "text/plain": [
       "<Figure size 432x288 with 1 Axes>"
      ]
     },
     "metadata": {},
     "output_type": "display_data"
    }
   ],
   "source": [
    "plt.boxplot([LDA_l, Logistic_l])\n",
    "plt.xticks([1, 2], ['LDA_error', 'Logistic_error'])\n",
    "plt.show()"
   ]
  },
  {
   "cell_type": "code",
   "execution_count": 60,
   "metadata": {},
   "outputs": [
    {
     "data": {
      "text/html": [
       "<div>\n",
       "<style scoped>\n",
       "    .dataframe tbody tr th:only-of-type {\n",
       "        vertical-align: middle;\n",
       "    }\n",
       "\n",
       "    .dataframe tbody tr th {\n",
       "        vertical-align: top;\n",
       "    }\n",
       "\n",
       "    .dataframe thead th {\n",
       "        text-align: right;\n",
       "    }\n",
       "</style>\n",
       "<table border=\"1\" class=\"dataframe\">\n",
       "  <thead>\n",
       "    <tr style=\"text-align: right;\">\n",
       "      <th></th>\n",
       "      <th>LDA_mean</th>\n",
       "      <th>LDA_variance</th>\n",
       "      <th>Logistic_test_mean</th>\n",
       "      <th>Logistic_test_variance</th>\n",
       "    </tr>\n",
       "  </thead>\n",
       "  <tbody>\n",
       "    <tr>\n",
       "      <th>0</th>\n",
       "      <td>50.0</td>\n",
       "      <td>36.74</td>\n",
       "      <td>49.97</td>\n",
       "      <td>37.2891</td>\n",
       "    </tr>\n",
       "  </tbody>\n",
       "</table>\n",
       "</div>"
      ],
      "text/plain": [
       "   LDA_mean  LDA_variance  Logistic_test_mean  Logistic_test_variance\n",
       "0      50.0         36.74               49.97                 37.2891"
      ]
     },
     "execution_count": 60,
     "metadata": {},
     "output_type": "execute_result"
    }
   ],
   "source": [
    "Logistic_l = []\n",
    "LDA_l = []\n",
    "\n",
    "x_train, y_train = random(2)\n",
    "LOR = LogisticRegression()\n",
    "LDA = LinearDiscriminantAnalysis(n_components=1)\n",
    "LOR.fit(x_train,y_train)\n",
    "LDA.fit(x_train,y_train)\n",
    "\n",
    "for i in range(100):\n",
    "    x_test,y_test = random(2)\n",
    "    \n",
    "\n",
    "    Logistic_error = sum(y_test != LOR.predict(x_test))\n",
    "    LDA_error = sum(y_test != LDA.predict(x_test))\n",
    "    Logistic_l.append(Logistic_error)\n",
    "    LDA_l.append(LDA_error)\n",
    "\n",
    "data = {'LDA_mean': [np.mean(LDA_l)], 'LDA_variance': [np.var(LDA_l)], 'Logistic_test_mean': [np.mean(Logistic_l)], 'Logistic_test_variance': [np.var(Logistic_l)] }  \n",
    "df = pd.DataFrame(data)\n",
    "df"
   ]
  },
  {
   "cell_type": "code",
   "execution_count": 61,
   "metadata": {},
   "outputs": [
    {
     "data": {
      "text/html": [
       "<div>\n",
       "<style scoped>\n",
       "    .dataframe tbody tr th:only-of-type {\n",
       "        vertical-align: middle;\n",
       "    }\n",
       "\n",
       "    .dataframe tbody tr th {\n",
       "        vertical-align: top;\n",
       "    }\n",
       "\n",
       "    .dataframe thead th {\n",
       "        text-align: right;\n",
       "    }\n",
       "</style>\n",
       "<table border=\"1\" class=\"dataframe\">\n",
       "  <thead>\n",
       "    <tr style=\"text-align: right;\">\n",
       "      <th></th>\n",
       "      <th>LDA_mean</th>\n",
       "      <th>LDA_variance</th>\n",
       "      <th>Logistic_test_mean</th>\n",
       "      <th>Logistic_test_variance</th>\n",
       "    </tr>\n",
       "  </thead>\n",
       "  <tbody>\n",
       "    <tr>\n",
       "      <th>0</th>\n",
       "      <td>28.1</td>\n",
       "      <td>21.65</td>\n",
       "      <td>26.37</td>\n",
       "      <td>20.9531</td>\n",
       "    </tr>\n",
       "  </tbody>\n",
       "</table>\n",
       "</div>"
      ],
      "text/plain": [
       "   LDA_mean  LDA_variance  Logistic_test_mean  Logistic_test_variance\n",
       "0      28.1         21.65               26.37                 20.9531"
      ]
     },
     "execution_count": 61,
     "metadata": {},
     "output_type": "execute_result"
    }
   ],
   "source": [
    "Logistic_l = []\n",
    "LDA_l = []\n",
    "\n",
    "x_train, y_train = random(3)\n",
    "LOR = LogisticRegression()\n",
    "LDA = LinearDiscriminantAnalysis(n_components=1)\n",
    "LOR.fit(x_train,y_train)\n",
    "LDA.fit(x_train,y_train)\n",
    "\n",
    "for i in range(100):\n",
    "    x_test,y_test = random(3)\n",
    "    \n",
    "\n",
    "    Logistic_error = sum(y_test != LOR.predict(x_test))\n",
    "    LDA_error = sum(y_test != LDA.predict(x_test))\n",
    "    Logistic_l.append(Logistic_error)\n",
    "    LDA_l.append(LDA_error)\n",
    "\n",
    "data = {'LDA_mean': [np.mean(LDA_l)], 'LDA_variance': [np.var(LDA_l)], 'Logistic_test_mean': [np.mean(Logistic_l)], 'Logistic_test_variance': [np.var(Logistic_l)] }  \n",
    "df = pd.DataFrame(data)\n",
    "df"
   ]
  },
  {
   "cell_type": "markdown",
   "metadata": {},
   "source": [
    "Problem 3"
   ]
  },
  {
   "cell_type": "code",
   "execution_count": 31,
   "metadata": {},
   "outputs": [
    {
     "name": "stdout",
     "output_type": "stream",
     "text": [
      "   x1  x2 colors\n",
      "0   3   4    red\n",
      "1   2   2    red\n",
      "2   4   4    red\n",
      "3   1   4    red\n",
      "4   2   1   blue\n",
      "5   4   3   blue\n",
      "6   4   1   blue\n"
     ]
    },
    {
     "data": {
      "image/png": "[encoded data removed]",
      "text/plain": [
       "<Figure size 432x288 with 1 Axes>"
      ]
     },
     "metadata": {},
     "output_type": "display_data"
    }
   ],
   "source": [
    "# assign data of lists.  \n",
    "data = {'x1': [3, 2, 4, 1, 2, 4, 4], 'x2': [4, 2, 4, 4, 1, 3, 1], 'colors': [\"red\", \"red\", \"red\", \"red\", \"blue\", \"blue\", \"blue\"]}  \n",
    "  \n",
    "# Create DataFrame  \n",
    "df = pd.DataFrame(data)  \n",
    "  \n",
    "# Print the output.  \n",
    "print(df)  \n",
    "\n",
    "x1 = [3, 2, 4, 1]\n",
    "y1 = [4, 2, 4, 4]\n",
    " \n",
    "# depict first scatted plot\n",
    "plt.scatter(x1, y1, c='red')\n",
    "\n",
    " \n",
    "# second data point\n",
    "x2 = [2, 4, 4]\n",
    "y2 = [1, 3, 1]\n",
    " \n",
    "# depict second scatted plot\n",
    "plt.scatter(x2, y2, c='blue')\n",
    " \n",
    "# depict illustration\n",
    "plt.show()"
   ]
  },
  {
   "cell_type": "code",
   "execution_count": 32,
   "metadata": {},
   "outputs": [
    {
     "data": {
      "image/png": "[encoded data removed]",
      "text/plain": [
       "<Figure size 432x288 with 1 Axes>"
      ]
     },
     "metadata": {},
     "output_type": "display_data"
    }
   ],
   "source": [
    "v= np.linspace(0, 5, 10)\n",
    "f=v-0.5\n",
    "\n",
    "plt.scatter(x1, y1, c='red')\n",
    "plt.scatter(x2, y2, c='blue')\n",
    "plt.plot(v,f)\n",
    "plt.plot()\n",
    "plt.show()"
   ]
  },
  {
   "cell_type": "code",
   "execution_count": 26,
   "metadata": {},
   "outputs": [
    {
     "data": {
      "image/png": "[encoded data removed]",
      "text/plain": [
       "<Figure size 432x288 with 1 Axes>"
      ]
     },
     "metadata": {},
     "output_type": "display_data"
    }
   ],
   "source": [
    "v= np.linspace(0, 5, 10)\n",
    "f=v-0.5\n",
    "f1=v-1\n",
    "f2=v\n",
    "\n",
    "plt.scatter(x1, y1, c='red')\n",
    "plt.scatter(x2, y2, c='blue')\n",
    "plt.plot(v,f)\n",
    "plt.plot(v,f1,'--')\n",
    "plt.plot(v,f2,'--')\n",
    "plt.show()"
   ]
  },
  {
   "cell_type": "code",
   "execution_count": 33,
   "metadata": {},
   "outputs": [
    {
     "data": {
      "image/png": "[encoded data removed]",
      "text/plain": [
       "<Figure size 432x288 with 1 Axes>"
      ]
     },
     "metadata": {},
     "output_type": "display_data"
    }
   ],
   "source": [
    "f3=v-0.2\n",
    "\n",
    "plt.scatter(x1, y1, c='red')\n",
    "plt.scatter(x2, y2, c='blue')\n",
    "plt.plot(v,f3)\n",
    "plt.show()"
   ]
  },
  {
   "cell_type": "code",
   "execution_count": 28,
   "metadata": {},
   "outputs": [
    {
     "data": {
      "image/png": "[encoded data removed]",
      "text/plain": [
       "<Figure size 432x288 with 1 Axes>"
      ]
     },
     "metadata": {},
     "output_type": "display_data"
    }
   ],
   "source": [
    "x1.append(3)\n",
    "y1.append(1)\n",
    "\n",
    "plt.scatter(x1, y1, c='red')\n",
    "plt.scatter(x2, y2, c='blue')\n",
    "plt.show()"
   ]
  }
 ],
 "metadata": {
  "interpreter": {
   "hash": "3c178aea58de6e77b93b19ccdcc6dacff0444b89d2a7888d60013d84570d1a9a"
  },
  "kernelspec": {
   "display_name": "Python 3.8.8 64-bit ('base': conda)",
   "language": "python",
   "name": "python3"
  },
  "language_info": {
   "codemirror_mode": {
    "name": "ipython",
    "version": 3
   },
   "file_extension": ".py",
   "mimetype": "text/x-python",
   "name": "python",
   "nbconvert_exporter": "python",
   "pygments_lexer": "ipython3",
   "version": "3.8.8"
  },
  "orig_nbformat": 4
 },
 "nbformat": 4,
 "nbformat_minor": 2
}
