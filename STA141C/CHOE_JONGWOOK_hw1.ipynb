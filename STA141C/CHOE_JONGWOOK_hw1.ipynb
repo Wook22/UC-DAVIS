{
 "cells": [
  {
   "cell_type": "markdown",
   "metadata": {},
   "source": [
    "#### STA 141C - Big Data & High Performance Statistical Computing Spring 2022\n",
    "\n",
    "#### Homework # 1\n",
    "##### JONGWOOk CHOE\n",
    "##### March 21, 2022"
   ]
  },
  {
   "cell_type": "code",
   "execution_count": null,
   "metadata": {},
   "outputs": [],
   "source": [
    "import numpy as np\n",
    "import pandas as pd\n",
    "import matplotlib.pyplot as plt"
   ]
  },
  {
   "cell_type": "markdown",
   "metadata": {},
   "source": [
    "1.  The following facts about triangular matrices are useful for understanding the algorithms that will be mentioned in class. Please create some arbitrary matrices in R or python and verify the following facts:\n",
    "\n",
    "* The product of two upper triangular matrices is upper triangular.\n",
    "* The inverse of a lower triangular matrix is lower triangular.\n",
    "* The product of two unit lower triangular matrices is unit lower triangular. \n",
    "* The inverse of a unit upper triangular matrix is unit upper triangular.\n",
    "\n",
    "Note that a unit triangular matrix is a triangular matrix with all diagonal entries being 1.\n"
   ]
  },
  {
   "cell_type": "code",
   "execution_count": null,
   "metadata": {},
   "outputs": [],
   "source": []
  },
  {
   "cell_type": "markdown",
   "metadata": {},
   "source": [
    "2.  Let a = 0.7, b = 0.2, and c = 0.1\n",
    "\n",
    "* Test whether (a + b) + c equals 1;\n",
    "* Test whether a + (b + c) equals 1;\n",
    "* Test whether (a + c) + b equals 1;\n",
    "* Explain what you found. (For example, you can find the internal representation of these numbers.)"
   ]
  },
  {
   "cell_type": "code",
   "execution_count": null,
   "metadata": {},
   "outputs": [],
   "source": [
    "a = 0.7\n",
    "b = 0.2\n",
    "c = 0.1"
   ]
  },
  {
   "cell_type": "code",
   "execution_count": null,
   "metadata": {},
   "outputs": [],
   "source": [
    "# Test (a+b)+c\n",
    "(a+b)+c"
   ]
  },
  {
   "cell_type": "code",
   "execution_count": null,
   "metadata": {},
   "outputs": [],
   "source": [
    "# Test a+(b+c)\n",
    "a+(b+c)"
   ]
  },
  {
   "cell_type": "code",
   "execution_count": null,
   "metadata": {},
   "outputs": [],
   "source": [
    "# Test (a+c)+b\n",
    "(a+c)+b"
   ]
  },
  {
   "cell_type": "markdown",
   "metadata": {},
   "source": [
    "We were able to get exact value of 1.0 as an answer except when we compute (a+b)+c. Since the float type in Python follows double precision of the IEEE Standard 754 model, Python stores float type number in to the memory as slightly different value. Therefore, when we print out 0.7, 0.2, and 0.1 up to 10^-56 places, we would get the values below. "
   ]
  },
  {
   "cell_type": "code",
   "execution_count": null,
   "metadata": {},
   "outputs": [],
   "source": [
    "# Print out the actual decimal points of each floats. \n",
    "print(format(0.7, '.56f')) \n",
    "print(format(0.2, '.56f'))\n",
    "print(format(0.1, '.56f'))"
   ]
  },
  {
   "cell_type": "markdown",
   "metadata": {},
   "source": [
    "The numbers above are the actual float point that Python uses for 0.7, 0.2, 0.1. Due to this, when we add 0.7 and 0.2 first and print out the result up to 10^-56 places, we get the number very slightly lower than 0.9. These subtle differences make Python to show us $0.9999\\cdots$ when we add 0.7 and 0.2 first and add 0.1 later. "
   ]
  },
  {
   "cell_type": "markdown",
   "metadata": {},
   "source": [
    "3. Create the vector x = (0.988, 0.989, 0.990, . . . , 1.010, 1.011, 1.012).\n",
    "\n",
    "* Plot the polynomial $y=x^7−7x^6+21x^5−35x^4+35x^3−21x^2+7x−1$ at each point in x \n",
    "* Plot the polynomial $y = (x − 1)^7$ at each point in x\n",
    "* Explain what you found.\n"
   ]
  },
  {
   "cell_type": "code",
   "execution_count": null,
   "metadata": {},
   "outputs": [],
   "source": [
    "# create a vector of range(0.988, 1.012)\n",
    "\n",
    "vector_x = np.arange(0.988, 1.012, 0.001)"
   ]
  },
  {
   "cell_type": "code",
   "execution_count": null,
   "metadata": {},
   "outputs": [],
   "source": [
    "# Formula\n",
    "yval = vector_x**7 - 7*vector_x**6 + 21*vector_x**5 - 35*vector_x**4 + 35*vector_x**3 - 21*vector_x**2 + 7*vector_x - 1\n",
    "\n",
    "# x represents each value in vector_x and y represents the y value of each corresponding x value    \n",
    "plt.plot(vector_x, yval)"
   ]
  },
  {
   "cell_type": "code",
   "execution_count": null,
   "metadata": {},
   "outputs": [],
   "source": [
    "# Formula\n",
    "yval = (vector_x - 1)**7\n",
    "\n",
    "plt.plot(vector_x, yval)"
   ]
  },
  {
   "cell_type": "markdown",
   "metadata": {},
   "source": [
    "Compare to the second polynomial graph, the first polynomial graph has more deviation. "
   ]
  },
  {
   "cell_type": "markdown",
   "metadata": {},
   "source": [
    "4. Read in the matrix in the file ‘oringp.dat’ on the failure of O-rings leading to the Challenger disaster. The columns are flight number, date, number of O-rings, number failed, and temperature at launch. Compute the correlation between number of failures and temperature at launch, deleting the last, missing observation (the disaster)."
   ]
  },
  {
   "cell_type": "code",
   "execution_count": null,
   "metadata": {},
   "outputs": [],
   "source": [
    "# read oringp data\n",
    "df = pd.read_csv(\"oringp.dat\", header=None, sep=\",\")\n",
    "\n",
    "# rename the column name \n",
    "df.rename(columns={0:\"flight_num\", 1:\"date\", 2:\"O_rings\", 3:\"failed_num\", 4:\"temp\"}, inplace=True)\n",
    "\n",
    "df"
   ]
  },
  {
   "cell_type": "code",
   "execution_count": null,
   "metadata": {},
   "outputs": [],
   "source": [
    "# Drop the row that contains NA\n",
    "df.drop([23],inplace=True)\n",
    "df.tail()"
   ]
  },
  {
   "cell_type": "code",
   "execution_count": null,
   "metadata": {},
   "outputs": [],
   "source": [
    "# Compute correlation between number of failures and temperature at launch\n",
    "df['failed_num'] = pd.to_numeric(df['failed_num'])\n",
    "corr = df['failed_num'].corr(df['temp'])\n",
    "\n",
    "print(f\"The correlation between number of failures and temperature at launch: {corr}\")"
   ]
  },
  {
   "cell_type": "markdown",
   "metadata": {},
   "source": [
    "\n",
    "5. (Challenging!) Consider the mixed effect model\n",
    "$$y_i =x^′_i\\beta+z_i^′\\gamma+\\epsilon_i, i=1,\\cdots,n,$$\n",
    "where $\\epsilon_i \\sim N(0,\\sigma_0^2)$ are independent normal errors, $\\beta \\in \\mathbb{R}^p$ are fixed effects, $\\gamma \\in \\mathbb{R}^q$ are random effects assumed to be $N(0_q,\\sigma_1^2I_q), \\gamma$ and $\\epsilon_i$ are independent. For simplicity, assume $\\mu_i = x^′_i\\beta$. Let $y = (y_1,\\cdots,y_n)^′, \\mu = (\\mu_1,\\cdots,\\mu_n)^′, Z = (z_1,\\cdots,z_n)^′$, then $y \\in \\mathbb{R}^n, \\mu \\in \\mathbb{R}^n, Z \\in \\mathbb{R}^{n\\times q}$, and $y \\sim N(\\mu,\\sigma_1^2ZZ^′ + \\sigma_0^2I_n)$. Our goal is to evaluate its log-density function given by\n",
    "\n",
    "$$-\\frac{n}{2}\\text{log}(2\\pi) − \\frac{1}{2} \\text{log}(\\text{det}(\\sigma_1^2ZZ^′ + \\sigma_0^2I_n)) − \\frac{1}{2}(y − \\mu)^′(\\sigma_1^2ZZ^′ + \\sigma_0^2I_n)^{−1}(y − \\mu).\\,\\,\\,\\,\\,\\,\\,\\,\\,\\text{(1,1)}$$\n",
    "\n",
    "1. Choose $n (\\geq 100)$ and $q = 5$, randomly choose a value for $\\sigma_0, \\sigma_1,$ and a vector $\\mu$, a matrix $Z$ respectively. Use them to generate $y$ (note that $y$ can be generated from a multivariate normal density $N(\\mu,\\sigma_1^2ZZ^′ + \\sigma_0^2I_n); y$ is a $n\\times  1$ vector. You should use set.seed function in R or np.random.seed function in numpy before generating $y$).\n",
    "    \n",
    "2. Use the default package in R or numpy to evaluate the log-density function (e.g., in R, use dmvnorm(y y, mu = mu, Sigma = Sigma, log = TRUE)). Note that: Sigma = $\\sigma_1^2ZZ^′ + \\sigma_0^2I_n.$\n",
    "\n",
    "3. Apply the Woodbury formula\n",
    "$$(A + UV^′)^{−1} = A^{−1} − A^{−1}U(I_m + V^′A^{−1}U)^{−1}V^′A^{−1},$$\n",
    "where $A \\in \\mathbb{R}^{n\\times n}, U,V \\in \\mathbb{R}^{n\\times m}$ to rewrite $(\\sigma_1^2ZZ^′ +\\sigma_0^2I_n)^{−1}$ and apply the matrix determinant lemma $\\text{det}(A+UV^′)=\\text{det}(A)\\text{det}(I_m +V^′A^{−1}U)$ to re-write $\\text{det}(\\sigma_1^2ZZ^′ +\\sigma_0^2I_n).$ Plugging-in the two terms and rewrite the log-density function in (1.1).\n",
    "\n",
    "4. We now ready to write a function to evaluate the log-density by yourself using the formula you derived in question 3. Call this function\n",
    "$$\\text{dmvnorm\\_ lowrank(y, mu, Z, sigma0, sigma1, log = FALSE).}$$\n",
    "The inputs of the function should be $y, \\mu, Z, \\sigma_0,\\text{ and }\\sigma_1$ and the output of this function should be the density function if log = FALSE and should be the log-density function if log = TRUE. The default output of the function should be log = FALSE.\n",
    "\n",
    "5. Test you function by plugging-in the same values of $y, \\mu, Z, \\sigma_0,\\text{ and }\\sigma_1$ in (1) into the **dmvnorm_lowrank** function. The output should be the same as in question 2.\n",
    "\n",
    "\n",
    "6. Compare the computational speeds between your function and the default package used in question 2. Comment on your findings.\n",
    "\n",
    "7. (extra credit, 1 point) Increase n (but keep q the same) and try questions 1-6 again. Comment on your findings.\n",
    "\n"
   ]
  },
  {
   "cell_type": "code",
   "execution_count": null,
   "metadata": {},
   "outputs": [],
   "source": []
  },
  {
   "cell_type": "markdown",
   "metadata": {},
   "source": [
    "6. In class we learnt about the BLAS and how it has become a de facto standard for basic linear algebra operations. Both R and numpy use the BLAS and LAPACK libraries extensively to accelerate certain types of operations. Apart from \\*, %\\*%, **eigen**, and **qr**, find out two other common functions use the BLAS and LAPACK routines to speed up calculations."
   ]
  },
  {
   "cell_type": "code",
   "execution_count": null,
   "metadata": {},
   "outputs": [],
   "source": []
  }
 ],
 "metadata": {
  "language_info": {
   "name": "python"
  },
  "orig_nbformat": 4
 },
 "nbformat": 4,
 "nbformat_minor": 2
}
