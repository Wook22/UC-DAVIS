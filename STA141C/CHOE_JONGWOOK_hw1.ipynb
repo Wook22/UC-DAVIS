{
 "cells": [
  {
   "cell_type": "markdown",
   "metadata": {},
   "source": [
    "### STA 141C - Big Data & High Performance Statistical Computing Spring 2022\n",
    "\n",
    "### Homework # 1\n",
    "#### JONGWOOk CHOE\n",
    "#### March 21, 2022"
   ]
  },
  {
   "cell_type": "markdown",
   "metadata": {},
   "source": [
    "1.  The following facts about triangular matrices are useful for understanding the algorithms that will be mentioned in class. Please create some arbitrary matrices in R or python and verify the following facts:\n",
    "\n",
    "* The product of two upper triangular matrices is upper triangular.\n",
    "* The inverse of a lower triangular matrix is lower triangular.\n",
    "* The product of two unit lower triangular matrices is unit lower triangular. \n",
    "* The inverse of a unit upper triangular matrix is unit upper triangular.\n",
    "\n",
    "Note that a unit triangular matrix is a triangular matrix with all diagonal entries being 1.\n"
   ]
  },
  {
   "cell_type": "code",
   "execution_count": null,
   "metadata": {},
   "outputs": [],
   "source": []
  },
  {
   "cell_type": "markdown",
   "metadata": {},
   "source": [
    "2.  Let a = 0.7, b = 0.2, and c = 0.1\n",
    "\n",
    "* Test whether (a + b) + c equals 1;\n",
    "* Test whether a + (b + c) equals 1;\n",
    "* Test whether (a + c) + b equals 1;\n",
    "* Explain what you found. (For example, you can find the internal representation of these numbers.)"
   ]
  },
  {
   "cell_type": "code",
   "execution_count": null,
   "metadata": {},
   "outputs": [],
   "source": []
  },
  {
   "cell_type": "markdown",
   "metadata": {},
   "source": [
    "3. Create the vector x = (0.988, 0.989, 0.990, . . . , 1.010, 1.011, 1.012).\n",
    "\n",
    "* Plot the polynomial $y=x^7−7x^6+21x^5−35x^4+35x^3−21x^2+7x−1$ at each point in x \n",
    "* Plot the polynomial $y = (x − 1)^7$ at each point in x\n",
    "* Explain what you found.\n"
   ]
  },
  {
   "cell_type": "code",
   "execution_count": null,
   "metadata": {},
   "outputs": [],
   "source": []
  },
  {
   "cell_type": "markdown",
   "metadata": {},
   "source": [
    "4. Read in the matrix in the file ‘oringp.dat’ on the failure of O-rings leading to the Challenger disaster. The columns are flight number, date, number of O-rings, number failed, and temperature at launch. Compute the correlation between number of failures and temperature at launch, deleting the last, missing observation (the disaster)."
   ]
  },
  {
   "cell_type": "code",
   "execution_count": null,
   "metadata": {},
   "outputs": [],
   "source": []
  },
  {
   "cell_type": "markdown",
   "metadata": {},
   "source": [
    "\n",
    "5. (Challenging!) Consider the mixed effect model\n",
    "$$y_i =x^′_i\\beta+z_i^′\\gamma+\\epsilon_i, i=1,\\cdots,n,$$\n",
    "where $\\epsilon_i \\sim N(0,\\sigma_0^2)$ are independent normal errors, $\\beta \\in \\mathbb{R}^p$ are fixed effects, $\\gamma \\in \\mathbb{R}^q$ are random effects assumed to be $N(0_q,\\sigma_1^2I_q), \\gamma$ and $\\epsilon_i$ are independent. For simplicity, assume $\\mu_i = x^′_i\\beta$. Let $y = (y_1,\\cdots,y_n)^′, \\mu = (\\mu_1,\\cdots,\\mu_n)^′, Z = (z_1,\\cdots,z_n)^′$, then $y \\in \\mathbb{R}^n, \\mu \\in \\mathbb{R}^n, Z \\in \\mathbb{R}^{n×q}$, and $y \\sim N(\\mu,\\sigma_1^2ZZ^′ + \\sigma_0^2I_n)$. Our goal is to evaluate its log-density function given by\n",
    "\n",
    "$$-\\frac{n}{2}\\text{log}(2\\pi) − \\frac{1}{2} \\text{log}(\\text{det}(\\sigma_1^2ZZ^′ + \\sigma_0^2I_n)) − \\frac{1}{2}(y − \\mu)^′(\\sigma_1^2ZZ^′ + \\sigma_0^2I_n)^{−1}(y − \\mu).$$\n",
    "\n",
    "    1. Choose n (≥ 100) and q = 5, randomly choose a value for σ0, σ1, and a vector μ, a matrix Z respectively. Use them to generate y (note that y can be generated from a multivariate normal density N(μ,σ12ZZ′ + σ02In); y is a n × 1 vector. You should use set.seed function in R or np.random.seed function in numpy before generating y).\n",
    "    \n",
    "    2. Use the default package in R or numpy to evaluate the log-density function (e.g., in R, use dmvnorm(y y, mu = mu, Sigma = Sigma, log = TRUE)). Note that: Sigma = σ12ZZ′ + σ02In.\n",
    "\n",
    "    3. Apply the Woodbury formula\n",
    "    (A + UV ′)−1 = A−1 − A−1U(Im + V ′A−1U)−1V ′A−1,\n",
    "    where A ∈ Rn×n, U,V ∈ Rn×m to rewrite (σ12ZZ′ +σ02In)−1 and apply the matrix determinant lemma det(A+UV′)=det(A)det(Im +V′A−1U)\n",
    "    to re-write det(σ12ZZ′ +σ02In). Plugging-in the two terms and rewrite the log-density function in (1.1)."
   ]
  }
 ],
 "metadata": {
  "language_info": {
   "name": "python"
  },
  "orig_nbformat": 4
 },
 "nbformat": 4,
 "nbformat_minor": 2
}
