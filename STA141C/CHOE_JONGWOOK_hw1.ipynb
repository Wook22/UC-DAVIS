{
 "cells": [
  {
   "cell_type": "markdown",
   "metadata": {},
   "source": [
    "### STA 141C - Big Data & High Performance Statistical Computing Spring 2022\n",
    "\n",
    "### Homework # 1\n",
    "#### JONGWOOk CHOE\n",
    "#### March 21, 2022"
   ]
  },
  {
   "cell_type": "markdown",
   "metadata": {},
   "source": [
    "1.  The following facts about triangular matrices are useful for understanding the algorithms that will be mentioned in class. Please create some arbitrary matrices in R or python and verify the following facts:\n",
    "\n",
    "* The product of two upper triangular matrices is upper triangular.\n",
    "* The inverse of a lower triangular matrix is lower triangular.\n",
    "* The product of two unit lower triangular matrices is unit lower triangular. \n",
    "* The inverse of a unit upper triangular matrix is unit upper triangular.\n",
    "\n",
    "Note that a unit triangular matrix is a triangular matrix with all diagonal entries being 1.\n"
   ]
  },
  {
   "cell_type": "code",
   "execution_count": null,
   "metadata": {},
   "outputs": [],
   "source": []
  },
  {
   "cell_type": "markdown",
   "metadata": {},
   "source": [
    "2.  Let a = 0.7, b = 0.2, and c = 0.1\n",
    "\n",
    "* Test whether (a + b) + c equals 1;\n",
    "* Test whether a + (b + c) equals 1;\n",
    "* Test whether (a + c) + b equals 1;\n",
    "* Explain what you found. (For example, you can find the internal representation of these numbers.)"
   ]
  },
  {
   "cell_type": "code",
   "execution_count": null,
   "metadata": {},
   "outputs": [],
   "source": []
  },
  {
   "cell_type": "markdown",
   "metadata": {},
   "source": [
    "3. Create the vector x = (0.988, 0.989, 0.990, . . . , 1.010, 1.011, 1.012).\n",
    "\n",
    "* Plot the polynomial $y=x^7−7x^6+21x^5−35x^4+35x^3−21x^2+7x−1$ at each point in x \n",
    "* Plot the polynomial $y = (x − 1)^7$ at each point in x\n",
    "* Explain what you found.\n"
   ]
  },
  {
   "cell_type": "code",
   "execution_count": null,
   "metadata": {},
   "outputs": [],
   "source": []
  },
  {
   "cell_type": "markdown",
   "metadata": {},
   "source": [
    "4. Read in the matrix in the file ‘oringp.dat’ on the failure of O-rings leading to the Challenger disaster. The columns are flight number, date, number of O-rings, number failed, and temperature at launch. Compute the correlation between number of failures and temperature at launch, deleting the last, missing observation (the disaster)."
   ]
  },
  {
   "cell_type": "code",
   "execution_count": null,
   "metadata": {},
   "outputs": [],
   "source": []
  }
 ],
 "metadata": {
  "language_info": {
   "name": "python"
  },
  "orig_nbformat": 4
 },
 "nbformat": 4,
 "nbformat_minor": 2
}
