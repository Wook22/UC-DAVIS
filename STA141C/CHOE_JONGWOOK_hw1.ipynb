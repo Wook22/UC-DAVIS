{
 "cells": [
  {
   "cell_type": "markdown",
   "metadata": {},
   "source": [
    "#### STA 141C - Big Data & High Performance Statistical Computing Spring 2022\n",
    "\n",
    "#### Homework # 1\n",
    "\n",
    "##### JONGWOOk CHOE\n",
    "\n",
    "##### March 21, 2022\n"
   ]
  },
  {
   "cell_type": "code",
   "execution_count": 96,
   "metadata": {},
   "outputs": [],
   "source": [
    "import numpy as np\n",
    "import numpy.linalg as inv\n",
    "from scipy import stats\n",
    "import math\n",
    "import pandas as pd\n",
    "import matplotlib.pyplot as plt\n",
    "import time\n"
   ]
  },
  {
   "cell_type": "markdown",
   "metadata": {},
   "source": [
    "1.  The following facts about triangular matrices are useful for understanding the algorithms that will be mentioned in class. Please create some arbitrary matrices in R or python and verify the following facts:\n",
    "\n",
    "- The product of two upper triangular matrices is upper triangular.\n",
    "- The inverse of a lower triangular matrix is lower triangular.\n",
    "- The product of two unit lower triangular matrices is unit lower triangular.\n",
    "- The inverse of a unit upper triangular matrix is unit upper triangular.\n",
    "\n",
    "Note that a unit triangular matrix is a triangular matrix with all diagonal entries being 1.\n"
   ]
  },
  {
   "cell_type": "code",
   "execution_count": 2,
   "metadata": {},
   "outputs": [],
   "source": [
    "# Generate random matirces\n",
    "\n",
    "A1 = np.random.randint(10, size=(4, 4))\n",
    "A2 = np.random.randint(10, size=(4, 4))\n",
    "\n",
    "# Create two upper triangular matrices.\n",
    "U1 = np.triu(A1)\n",
    "U2 = np.triu(A2)\n",
    "\n",
    "# Create two lower triangular matrices.\n",
    "L1 = np.tril(A1)\n",
    "L2 = np.tril(A2)\n"
   ]
  },
  {
   "cell_type": "code",
   "execution_count": 3,
   "metadata": {},
   "outputs": [
    {
     "name": "stdout",
     "output_type": "stream",
     "text": [
      "[[24 35  7 40]\n",
      " [ 0 10 54  3]\n",
      " [ 0  0 36  0]\n",
      " [ 0  0  0 81]]\n"
     ]
    }
   ],
   "source": [
    "# Product of two upper tirangular matirces is upper triangular.\n",
    "print(U1*U2)\n"
   ]
  },
  {
   "cell_type": "code",
   "execution_count": 4,
   "metadata": {},
   "outputs": [
    {
     "name": "stdout",
     "output_type": "stream",
     "text": [
      "[[ 2.50000000e-01  1.38777878e-17  1.85037171e-17 -5.32298710e-18]\n",
      " [-1.00000000e+00  5.00000000e-01 -7.40148683e-17  2.12919484e-17]\n",
      " [ 1.38888889e-01 -1.66666667e-01  1.11111111e-01 -9.12512075e-18]\n",
      " [ 2.25308642e-01 -1.48148148e-01 -8.64197531e-02  1.11111111e-01]]\n"
     ]
    }
   ],
   "source": [
    "# Inverse of a lower triangular matrix is lower triangular.\n",
    "print(np.linalg.inv(L1))\n"
   ]
  },
  {
   "cell_type": "code",
   "execution_count": 5,
   "metadata": {},
   "outputs": [
    {
     "name": "stdout",
     "output_type": "stream",
     "text": [
      "[[24  0  0  0]\n",
      " [56 10  0  0]\n",
      " [42  9 36  0]\n",
      " [16 45 35 81]]\n"
     ]
    }
   ],
   "source": [
    "# Product of two lower tirangular matirces is unit lower triangular.\n",
    "print(L1*L2)\n"
   ]
  },
  {
   "cell_type": "code",
   "execution_count": 6,
   "metadata": {},
   "outputs": [
    {
     "name": "stdout",
     "output_type": "stream",
     "text": [
      "Unit upper triangular matrix\n",
      "[[1 0 0 0]\n",
      " [8 1 0 0]\n",
      " [7 3 1 0]\n",
      " [8 5 7 1]]\n",
      "Inverse of a unit upper triangular matrix\n",
      "[[  1.   0.   0.   0.]\n",
      " [ -8.   1.   0.   0.]\n",
      " [ 17.  -3.   1.  -0.]\n",
      " [-87.  16.  -7.   1.]]\n"
     ]
    }
   ],
   "source": [
    "# Inverse of a unit upper triangular matrix is unit upper triangular.\n",
    "uL1 = L1\n",
    "uL1[np.diag_indices_from(uL1)] = 1\n",
    "print(\"Unit upper triangular matrix\")\n",
    "print(uL1)\n",
    "print(\"Inverse of a unit upper triangular matrix\")\n",
    "print(np.linalg.inv(uL1))\n"
   ]
  },
  {
   "cell_type": "markdown",
   "metadata": {},
   "source": [
    "2.  Let a = 0.7, b = 0.2, and c = 0.1\n",
    "\n",
    "- Test whether (a + b) + c equals 1;\n",
    "- Test whether a + (b + c) equals 1;\n",
    "- Test whether (a + c) + b equals 1;\n",
    "- Explain what you found. (For example, you can find the internal representation of these numbers.)\n"
   ]
  },
  {
   "cell_type": "code",
   "execution_count": 7,
   "metadata": {},
   "outputs": [],
   "source": [
    "a = 0.7\n",
    "b = 0.2\n",
    "c = 0.1\n"
   ]
  },
  {
   "cell_type": "code",
   "execution_count": 8,
   "metadata": {},
   "outputs": [
    {
     "data": {
      "text/plain": [
       "0.9999999999999999"
      ]
     },
     "execution_count": 8,
     "metadata": {},
     "output_type": "execute_result"
    }
   ],
   "source": [
    "# Test (a+b)+c\n",
    "(a+b)+c\n"
   ]
  },
  {
   "cell_type": "code",
   "execution_count": 9,
   "metadata": {},
   "outputs": [
    {
     "data": {
      "text/plain": [
       "1.0"
      ]
     },
     "execution_count": 9,
     "metadata": {},
     "output_type": "execute_result"
    }
   ],
   "source": [
    "# Test a+(b+c)\n",
    "a+(b+c)\n"
   ]
  },
  {
   "cell_type": "code",
   "execution_count": 10,
   "metadata": {},
   "outputs": [
    {
     "data": {
      "text/plain": [
       "1.0"
      ]
     },
     "execution_count": 10,
     "metadata": {},
     "output_type": "execute_result"
    }
   ],
   "source": [
    "# Test (a+c)+b\n",
    "(a+c)+b\n"
   ]
  },
  {
   "cell_type": "markdown",
   "metadata": {},
   "source": [
    "We were able to get exact value of 1.0 as an answer except when we compute (a+b)+c. Since the float type in Python follows double precision of the IEEE Standard 754 model, Python stores float type number in to the memory as slightly different value. Therefore, when we print out 0.7, 0.2, and 0.1 up to 10^-56 places, we would get the values below.\n"
   ]
  },
  {
   "cell_type": "code",
   "execution_count": 11,
   "metadata": {},
   "outputs": [
    {
     "name": "stdout",
     "output_type": "stream",
     "text": [
      "0.69999999999999995559107901499373838305473327636718750000\n",
      "0.20000000000000001110223024625156540423631668090820312500\n",
      "0.10000000000000000555111512312578270211815834045410156250\n"
     ]
    }
   ],
   "source": [
    "# Print out the actual decimal points of each floats.\n",
    "print(format(0.7, '.56f'))\n",
    "print(format(0.2, '.56f'))\n",
    "print(format(0.1, '.56f'))\n"
   ]
  },
  {
   "cell_type": "markdown",
   "metadata": {},
   "source": [
    "The numbers above are the actual float point that Python uses for 0.7, 0.2, 0.1. Due to this, when we add 0.7 and 0.2 first and print out the result up to 10^-56 places, we get the number very slightly lower than 0.9. These subtle differences make Python to show us $0.9999\\cdots$ when we add 0.7 and 0.2 first and add 0.1 later.\n"
   ]
  },
  {
   "cell_type": "markdown",
   "metadata": {},
   "source": [
    "3. Create the vector x = (0.988, 0.989, 0.990, . . . , 1.010, 1.011, 1.012).\n",
    "\n",
    "- Plot the polynomial $y=x^7−7x^6+21x^5−35x^4+35x^3−21x^2+7x−1$ at each point in x\n",
    "- Plot the polynomial $y = (x − 1)^7$ at each point in x\n",
    "- Explain what you found.\n"
   ]
  },
  {
   "cell_type": "code",
   "execution_count": 12,
   "metadata": {},
   "outputs": [],
   "source": [
    "# create a vector of range(0.988, 1.012)\n",
    "\n",
    "vector_x = np.arange(0.988, 1.012, 0.001)\n"
   ]
  },
  {
   "cell_type": "code",
   "execution_count": 13,
   "metadata": {},
   "outputs": [
    {
     "data": {
      "text/plain": [
       "[<matplotlib.lines.Line2D at 0x7fe8e086ed90>]"
      ]
     },
     "execution_count": 13,
     "metadata": {},
     "output_type": "execute_result"
    },
    {
     "data": {
      "image/png": "[encoded data removed]",
      "text/plain": [
       "<Figure size 432x288 with 1 Axes>"
      ]
     },
     "metadata": {
      "needs_background": "light"
     },
     "output_type": "display_data"
    }
   ],
   "source": [
    "# Formula\n",
    "yval = vector_x**7 - 7*vector_x**6 + 21*vector_x**5 - 35 * \\\n",
    "    vector_x**4 + 35*vector_x**3 - 21*vector_x**2 + 7*vector_x - 1\n",
    "\n",
    "# x represents each value in vector_x and y represents the y value of each corresponding x value\n",
    "plt.plot(vector_x, yval)\n"
   ]
  },
  {
   "cell_type": "code",
   "execution_count": 14,
   "metadata": {},
   "outputs": [
    {
     "data": {
      "text/plain": [
       "[<matplotlib.lines.Line2D at 0x7fe8907aee80>]"
      ]
     },
     "execution_count": 14,
     "metadata": {},
     "output_type": "execute_result"
    },
    {
     "data": {
      "image/png": "[encoded data removed]",
      "text/plain": [
       "<Figure size 432x288 with 1 Axes>"
      ]
     },
     "metadata": {
      "needs_background": "light"
     },
     "output_type": "display_data"
    }
   ],
   "source": [
    "# Formula\n",
    "yval = (vector_x - 1)**7\n",
    "\n",
    "plt.plot(vector_x, yval)\n"
   ]
  },
  {
   "cell_type": "markdown",
   "metadata": {},
   "source": [
    "Compare to the second polynomial graph, the first polynomial graph has more deviation.\n"
   ]
  },
  {
   "cell_type": "markdown",
   "metadata": {},
   "source": [
    "4. Read in the matrix in the file ‘oringp.dat’ on the failure of O-rings leading to the Challenger disaster. The columns are flight number, date, number of O-rings, number failed, and temperature at launch. Compute the correlation between number of failures and temperature at launch, deleting the last, missing observation (the disaster).\n"
   ]
  },
  {
   "cell_type": "code",
   "execution_count": 15,
   "metadata": {},
   "outputs": [
    {
     "data": {
      "text/html": [
       "<div>\n",
       "<style scoped>\n",
       "    .dataframe tbody tr th:only-of-type {\n",
       "        vertical-align: middle;\n",
       "    }\n",
       "\n",
       "    .dataframe tbody tr th {\n",
       "        vertical-align: top;\n",
       "    }\n",
       "\n",
       "    .dataframe thead th {\n",
       "        text-align: right;\n",
       "    }\n",
       "</style>\n",
       "<table border=\"1\" class=\"dataframe\">\n",
       "  <thead>\n",
       "    <tr style=\"text-align: right;\">\n",
       "      <th></th>\n",
       "      <th>flight_num</th>\n",
       "      <th>date</th>\n",
       "      <th>O_rings</th>\n",
       "      <th>failed_num</th>\n",
       "      <th>temp</th>\n",
       "    </tr>\n",
       "  </thead>\n",
       "  <tbody>\n",
       "    <tr>\n",
       "      <th>0</th>\n",
       "      <td>1</td>\n",
       "      <td>4/12/81</td>\n",
       "      <td>6</td>\n",
       "      <td>0.0</td>\n",
       "      <td>66</td>\n",
       "    </tr>\n",
       "    <tr>\n",
       "      <th>1</th>\n",
       "      <td>2</td>\n",
       "      <td>11/12/81</td>\n",
       "      <td>6</td>\n",
       "      <td>1.0</td>\n",
       "      <td>70</td>\n",
       "    </tr>\n",
       "    <tr>\n",
       "      <th>2</th>\n",
       "      <td>3</td>\n",
       "      <td>3/22/82</td>\n",
       "      <td>6</td>\n",
       "      <td>0.0</td>\n",
       "      <td>69</td>\n",
       "    </tr>\n",
       "    <tr>\n",
       "      <th>3</th>\n",
       "      <td>5</td>\n",
       "      <td>11/11/82</td>\n",
       "      <td>6</td>\n",
       "      <td>0.0</td>\n",
       "      <td>68</td>\n",
       "    </tr>\n",
       "    <tr>\n",
       "      <th>4</th>\n",
       "      <td>6</td>\n",
       "      <td>4/04/83</td>\n",
       "      <td>6</td>\n",
       "      <td>0.0</td>\n",
       "      <td>67</td>\n",
       "    </tr>\n",
       "    <tr>\n",
       "      <th>5</th>\n",
       "      <td>7</td>\n",
       "      <td>6/18/83</td>\n",
       "      <td>6</td>\n",
       "      <td>0.0</td>\n",
       "      <td>72</td>\n",
       "    </tr>\n",
       "    <tr>\n",
       "      <th>6</th>\n",
       "      <td>8</td>\n",
       "      <td>8/30/83</td>\n",
       "      <td>6</td>\n",
       "      <td>0.0</td>\n",
       "      <td>73</td>\n",
       "    </tr>\n",
       "    <tr>\n",
       "      <th>7</th>\n",
       "      <td>9</td>\n",
       "      <td>11/28/83</td>\n",
       "      <td>6</td>\n",
       "      <td>0.0</td>\n",
       "      <td>70</td>\n",
       "    </tr>\n",
       "    <tr>\n",
       "      <th>8</th>\n",
       "      <td>41-B</td>\n",
       "      <td>2/03/84</td>\n",
       "      <td>6</td>\n",
       "      <td>1.0</td>\n",
       "      <td>57</td>\n",
       "    </tr>\n",
       "    <tr>\n",
       "      <th>9</th>\n",
       "      <td>41-C</td>\n",
       "      <td>4/06/84</td>\n",
       "      <td>6</td>\n",
       "      <td>1.0</td>\n",
       "      <td>63</td>\n",
       "    </tr>\n",
       "    <tr>\n",
       "      <th>10</th>\n",
       "      <td>41-D</td>\n",
       "      <td>8/30/84</td>\n",
       "      <td>6</td>\n",
       "      <td>1.0</td>\n",
       "      <td>70</td>\n",
       "    </tr>\n",
       "    <tr>\n",
       "      <th>11</th>\n",
       "      <td>41-G</td>\n",
       "      <td>10/05/84</td>\n",
       "      <td>6</td>\n",
       "      <td>0.0</td>\n",
       "      <td>78</td>\n",
       "    </tr>\n",
       "    <tr>\n",
       "      <th>12</th>\n",
       "      <td>51-A</td>\n",
       "      <td>11/08/84</td>\n",
       "      <td>6</td>\n",
       "      <td>0.0</td>\n",
       "      <td>67</td>\n",
       "    </tr>\n",
       "    <tr>\n",
       "      <th>13</th>\n",
       "      <td>51-C</td>\n",
       "      <td>1/24/85</td>\n",
       "      <td>6</td>\n",
       "      <td>3.0</td>\n",
       "      <td>53</td>\n",
       "    </tr>\n",
       "    <tr>\n",
       "      <th>14</th>\n",
       "      <td>51-D</td>\n",
       "      <td>4/12/85</td>\n",
       "      <td>6</td>\n",
       "      <td>0.0</td>\n",
       "      <td>67</td>\n",
       "    </tr>\n",
       "    <tr>\n",
       "      <th>15</th>\n",
       "      <td>51-B</td>\n",
       "      <td>4/29/85</td>\n",
       "      <td>6</td>\n",
       "      <td>0.0</td>\n",
       "      <td>75</td>\n",
       "    </tr>\n",
       "    <tr>\n",
       "      <th>16</th>\n",
       "      <td>51-G</td>\n",
       "      <td>6/17/85</td>\n",
       "      <td>6</td>\n",
       "      <td>0.0</td>\n",
       "      <td>70</td>\n",
       "    </tr>\n",
       "    <tr>\n",
       "      <th>17</th>\n",
       "      <td>51-F</td>\n",
       "      <td>7/29/85</td>\n",
       "      <td>6</td>\n",
       "      <td>0.0</td>\n",
       "      <td>81</td>\n",
       "    </tr>\n",
       "    <tr>\n",
       "      <th>18</th>\n",
       "      <td>51-I</td>\n",
       "      <td>8/27/85</td>\n",
       "      <td>6</td>\n",
       "      <td>0.0</td>\n",
       "      <td>76</td>\n",
       "    </tr>\n",
       "    <tr>\n",
       "      <th>19</th>\n",
       "      <td>51-J</td>\n",
       "      <td>10/03/85</td>\n",
       "      <td>6</td>\n",
       "      <td>0.0</td>\n",
       "      <td>79</td>\n",
       "    </tr>\n",
       "    <tr>\n",
       "      <th>20</th>\n",
       "      <td>61-A</td>\n",
       "      <td>10/30/85</td>\n",
       "      <td>6</td>\n",
       "      <td>2.0</td>\n",
       "      <td>75</td>\n",
       "    </tr>\n",
       "    <tr>\n",
       "      <th>21</th>\n",
       "      <td>61-B</td>\n",
       "      <td>11/26/85</td>\n",
       "      <td>6</td>\n",
       "      <td>0.0</td>\n",
       "      <td>76</td>\n",
       "    </tr>\n",
       "    <tr>\n",
       "      <th>22</th>\n",
       "      <td>61-C</td>\n",
       "      <td>1/12/86</td>\n",
       "      <td>6</td>\n",
       "      <td>1.0</td>\n",
       "      <td>58</td>\n",
       "    </tr>\n",
       "    <tr>\n",
       "      <th>23</th>\n",
       "      <td>61-I</td>\n",
       "      <td>1/28/86</td>\n",
       "      <td>6</td>\n",
       "      <td>NaN</td>\n",
       "      <td>31</td>\n",
       "    </tr>\n",
       "  </tbody>\n",
       "</table>\n",
       "</div>"
      ],
      "text/plain": [
       "   flight_num      date  O_rings  failed_num  temp\n",
       "0           1   4/12/81        6         0.0    66\n",
       "1           2  11/12/81        6         1.0    70\n",
       "2           3   3/22/82        6         0.0    69\n",
       "3           5  11/11/82        6         0.0    68\n",
       "4           6   4/04/83        6         0.0    67\n",
       "5           7   6/18/83        6         0.0    72\n",
       "6           8   8/30/83        6         0.0    73\n",
       "7           9  11/28/83        6         0.0    70\n",
       "8        41-B   2/03/84        6         1.0    57\n",
       "9        41-C   4/06/84        6         1.0    63\n",
       "10       41-D   8/30/84        6         1.0    70\n",
       "11       41-G  10/05/84        6         0.0    78\n",
       "12       51-A  11/08/84        6         0.0    67\n",
       "13       51-C   1/24/85        6         3.0    53\n",
       "14       51-D   4/12/85        6         0.0    67\n",
       "15       51-B   4/29/85        6         0.0    75\n",
       "16       51-G   6/17/85        6         0.0    70\n",
       "17       51-F   7/29/85        6         0.0    81\n",
       "18       51-I   8/27/85        6         0.0    76\n",
       "19       51-J  10/03/85        6         0.0    79\n",
       "20       61-A  10/30/85        6         2.0    75\n",
       "21       61-B  11/26/85        6         0.0    76\n",
       "22       61-C   1/12/86        6         1.0    58\n",
       "23       61-I   1/28/86        6         NaN    31"
      ]
     },
     "execution_count": 15,
     "metadata": {},
     "output_type": "execute_result"
    }
   ],
   "source": [
    "# read oringp data\n",
    "df = pd.read_csv(\"oringp.dat\", header=None, sep=\"\\s+\")\n",
    "\n",
    "# rename the column name\n",
    "df.rename(columns={0: \"flight_num\", 1: \"date\", 2: \"O_rings\",\n",
    "          3: \"failed_num\", 4: \"temp\"}, inplace=True)\n",
    "\n",
    "df\n"
   ]
  },
  {
   "cell_type": "code",
   "execution_count": 16,
   "metadata": {},
   "outputs": [
    {
     "data": {
      "text/html": [
       "<div>\n",
       "<style scoped>\n",
       "    .dataframe tbody tr th:only-of-type {\n",
       "        vertical-align: middle;\n",
       "    }\n",
       "\n",
       "    .dataframe tbody tr th {\n",
       "        vertical-align: top;\n",
       "    }\n",
       "\n",
       "    .dataframe thead th {\n",
       "        text-align: right;\n",
       "    }\n",
       "</style>\n",
       "<table border=\"1\" class=\"dataframe\">\n",
       "  <thead>\n",
       "    <tr style=\"text-align: right;\">\n",
       "      <th></th>\n",
       "      <th>flight_num</th>\n",
       "      <th>date</th>\n",
       "      <th>O_rings</th>\n",
       "      <th>failed_num</th>\n",
       "      <th>temp</th>\n",
       "    </tr>\n",
       "  </thead>\n",
       "  <tbody>\n",
       "    <tr>\n",
       "      <th>18</th>\n",
       "      <td>51-I</td>\n",
       "      <td>8/27/85</td>\n",
       "      <td>6</td>\n",
       "      <td>0.0</td>\n",
       "      <td>76</td>\n",
       "    </tr>\n",
       "    <tr>\n",
       "      <th>19</th>\n",
       "      <td>51-J</td>\n",
       "      <td>10/03/85</td>\n",
       "      <td>6</td>\n",
       "      <td>0.0</td>\n",
       "      <td>79</td>\n",
       "    </tr>\n",
       "    <tr>\n",
       "      <th>20</th>\n",
       "      <td>61-A</td>\n",
       "      <td>10/30/85</td>\n",
       "      <td>6</td>\n",
       "      <td>2.0</td>\n",
       "      <td>75</td>\n",
       "    </tr>\n",
       "    <tr>\n",
       "      <th>21</th>\n",
       "      <td>61-B</td>\n",
       "      <td>11/26/85</td>\n",
       "      <td>6</td>\n",
       "      <td>0.0</td>\n",
       "      <td>76</td>\n",
       "    </tr>\n",
       "    <tr>\n",
       "      <th>22</th>\n",
       "      <td>61-C</td>\n",
       "      <td>1/12/86</td>\n",
       "      <td>6</td>\n",
       "      <td>1.0</td>\n",
       "      <td>58</td>\n",
       "    </tr>\n",
       "  </tbody>\n",
       "</table>\n",
       "</div>"
      ],
      "text/plain": [
       "   flight_num      date  O_rings  failed_num  temp\n",
       "18       51-I   8/27/85        6         0.0    76\n",
       "19       51-J  10/03/85        6         0.0    79\n",
       "20       61-A  10/30/85        6         2.0    75\n",
       "21       61-B  11/26/85        6         0.0    76\n",
       "22       61-C   1/12/86        6         1.0    58"
      ]
     },
     "execution_count": 16,
     "metadata": {},
     "output_type": "execute_result"
    }
   ],
   "source": [
    "# Drop the row that contains NA\n",
    "df.drop([23], inplace=True)\n",
    "df.tail()\n"
   ]
  },
  {
   "cell_type": "code",
   "execution_count": 17,
   "metadata": {},
   "outputs": [
    {
     "name": "stdout",
     "output_type": "stream",
     "text": [
      "The correlation between number of failures and temperature at launch: -0.5613284258418355\n"
     ]
    }
   ],
   "source": [
    "# Compute correlation between number of failures and temperature at launch\n",
    "df['failed_num'] = pd.to_numeric(df['failed_num'])\n",
    "corr = df['failed_num'].corr(df['temp'])\n",
    "\n",
    "print(\n",
    "    f\"The correlation between number of failures and temperature at launch: {corr}\")\n"
   ]
  },
  {
   "cell_type": "markdown",
   "metadata": {},
   "source": [
    "5. (Challenging!) Consider the mixed effect model\n",
    "   $$y_i =x^′_i\\beta+z_i^′\\gamma+\\epsilon_i, i=1,\\cdots,n,$$\n",
    "   where $\\epsilon_i \\sim N(0,\\sigma_0^2)$ are independent normal errors, $\\beta \\in \\mathbb{R}^p$ are fixed effects, $\\gamma \\in \\mathbb{R}^q$ are random effects assumed to be $N(0_q,\\sigma_1^2I_q), \\gamma$ and $\\epsilon_i$ are independent. For simplicity, assume $\\mu_i = x^′_i\\beta$. Let $y = (y_1,\\cdots,y_n)^′, \\mu = (\\mu_1,\\cdots,\\mu_n)^′, Z = (z_1,\\cdots,z_n)^′$, then $y \\in \\mathbb{R}^n, \\mu \\in \\mathbb{R}^n, Z \\in \\mathbb{R}^{n\\times q}$, and $y \\sim N(\\mu,\\sigma_1^2ZZ^′ + \\sigma_0^2I_n)$. Our goal is to evaluate its log-density function given by\n",
    "\n",
    "$$-\\frac{n}{2}\\text{log}(2\\pi) − \\frac{1}{2} \\text{log}(\\text{det}(\\sigma_1^2ZZ^′ + \\sigma_0^2I_n)) − \\frac{1}{2}(y − \\mu)^′(\\sigma_1^2ZZ^′ + \\sigma_0^2I_n)^{−1}(y − \\mu).\\,\\,\\,\\,\\,\\,\\,\\,\\,\\text{(1,1)}$$\n",
    "\n",
    "1. Choose $n (\\geq 100)$ and $q = 5$, randomly choose a value for $\\sigma_0, \\sigma_1,$ and a vector $\\mu$, a matrix $Z$ respectively. Use them to generate $y$ (note that $y$ can be generated from a multivariate normal density $N(\\mu,\\sigma_1^2ZZ^′ + \\sigma_0^2I_n); y$ is a $n\\times  1$ vector. You should use set.seed function in R or np.random.seed function in numpy before generating $y$).\n",
    "2. Use the default package in R or numpy to evaluate the log-density function (e.g., in R, use dmvnorm(y y, mu = mu, Sigma = Sigma, log = TRUE)). Note that: Sigma = $\\sigma_1^2ZZ^′ + \\sigma_0^2I_n.$\n",
    "\n",
    "3. Apply the Woodbury formula\n",
    "   $$(A + UV^′)^{−1} = A^{−1} − A^{−1}U(I_m + V^′A^{−1}U)^{−1}V^′A^{−1},$$\n",
    "   where $A \\in \\mathbb{R}^{n\\times n}, U,V \\in \\mathbb{R}^{n\\times m}$ to rewrite $(\\sigma_1^2ZZ^′ +\\sigma_0^2I_n)^{−1}$ and apply the matrix determinant lemma $\\text{det}(A+UV^′)=\\text{det}(A)\\text{det}(I_m +V^′A^{−1}U)$ to re-write $\\text{det}(\\sigma_1^2ZZ^′ +\\sigma_0^2I_n).$ Plugging-in the two terms and rewrite the log-density function in (1.1).\n",
    "\n",
    "4. We now ready to write a function to evaluate the log-density by yourself using the formula you derived in question 3. Call this function\n",
    "   $$\\text{dmvnorm\\_ lowrank(y, mu, Z, sigma0, sigma1, log = FALSE).}$$\n",
    "   The inputs of the function should be $y, \\mu, Z, \\sigma_0,\\text{ and }\\sigma_1$ and the output of this function should be the density function if log = FALSE and should be the log-density function if log = TRUE. The default output of the function should be log = FALSE.\n",
    "\n",
    "5. Test you function by plugging-in the same values of $y, \\mu, Z, \\sigma_0,\\text{ and }\\sigma_1$ in (1) into the **dmvnorm_lowrank** function. The output should be the same as in question 2.\n",
    "\n",
    "6. Compare the computational speeds between your function and the default package used in question 2. Comment on your findings.\n",
    "\n",
    "7. (extra credit, 1 point) Increase n (but keep q the same) and try questions 1-6 again. Comment on your findings.\n"
   ]
  },
  {
   "cell_type": "code",
   "execution_count": 18,
   "metadata": {},
   "outputs": [],
   "source": [
    "# 1.\n",
    "np.random.seed(10)\n",
    "mu = np.random.randint(5, size=100)\n",
    "Z = np.random.randint(5, size=(100, 5))\n",
    "sigma0 = 2\n",
    "sigma1 = 1\n",
    "sigma = sigma1**2*np.mat(Z)*np.mat(np.transpose(Z))+sigma0**2*np.identity(100)\n",
    "\n",
    "y = np.random.multivariate_normal(mu, sigma, size=None)\n"
   ]
  },
  {
   "cell_type": "code",
   "execution_count": 19,
   "metadata": {},
   "outputs": [
    {
     "data": {
      "text/plain": [
       "(100,)"
      ]
     },
     "execution_count": 19,
     "metadata": {},
     "output_type": "execute_result"
    }
   ],
   "source": [
    "np.shape(y)\n"
   ]
  },
  {
   "cell_type": "code",
   "execution_count": 20,
   "metadata": {},
   "outputs": [
    {
     "name": "stdout",
     "output_type": "stream",
     "text": [
      "[-1.96548242e+00  2.37761466e+00 -7.00168191e+00  1.12168024e+00\n",
      "  3.75438570e+00  4.71512494e+00 -9.73197897e-01 -1.89784033e+00\n",
      " -2.40821061e+00  2.77614332e+00 -6.12135575e-01 -2.87152222e+00\n",
      " -1.95831781e+00 -5.35255765e-01 -4.06160046e+00  4.25106213e+00\n",
      "  2.66921597e+00 -5.95029862e-01  4.28424194e+00 -1.92612229e+00\n",
      " -6.91450653e+00  3.12377150e+00  1.11818589e+00  2.72406131e+00\n",
      "  1.89016372e+00  1.08210714e+00 -3.35055994e+00  7.14359191e-02\n",
      "  5.90382928e+00 -2.50648975e+00  3.41915853e+00 -1.76818351e+00\n",
      " -3.66867533e+00 -5.85477742e+00 -7.20378417e-01  5.06479229e+00\n",
      " -3.60545927e+00  2.39700038e+00 -2.44508450e+00 -2.64086650e+00\n",
      " -4.23951755e-01  9.08297098e-01 -5.34858058e+00  3.91745243e+00\n",
      " -4.81944095e+00 -3.42665754e+00  1.34776161e-01  1.62825188e-01\n",
      " -2.41037041e+00 -3.93306538e+00  2.18496667e+00 -9.83877505e-01\n",
      "  1.44860477e+00 -2.33310249e+00 -5.48066214e-01 -3.62875177e+00\n",
      "  1.10441538e+00  4.45128525e+00 -3.36671226e+00  9.41112520e-01\n",
      "  2.14232676e+00  8.52558878e+00  1.89611432e+00 -1.06607968e+00\n",
      " -1.14169473e+00  1.71252620e+00 -1.33451568e+00 -1.52298820e+00\n",
      "  4.50096371e+00  5.18900735e+00  1.99335753e+00 -2.20532059e+00\n",
      " -2.51475393e+00 -6.03839336e-03 -1.70914690e+00  5.29021074e+00\n",
      "  4.27650900e-01  2.46951353e+00 -1.93905770e+00 -6.66918772e+00\n",
      " -4.26187626e+00 -2.80081366e+00 -2.42980635e-01  2.04367947e+00\n",
      " -2.46314460e-01  1.82234912e+00 -7.90591235e-01  3.42089857e+00\n",
      "  1.04702670e+00 -2.04742279e+00  4.46144949e+00  1.54603122e+00\n",
      " -3.81111885e+00  6.94011359e-01  2.82798722e-01 -2.41858524e+00\n",
      " -1.97862736e+00 -2.56531544e+00 -2.04718676e-01 -3.91032120e+00]\n"
     ]
    }
   ],
   "source": [
    "print(y)\n"
   ]
  },
  {
   "cell_type": "code",
   "execution_count": 21,
   "metadata": {},
   "outputs": [
    {
     "name": "stdout",
     "output_type": "stream",
     "text": [
      "-219.91799434121359\n"
     ]
    }
   ],
   "source": [
    "# 2\n",
    "result = stats.multivariate_normal.logpdf(y, mu, sigma)\n",
    "print(result)\n"
   ]
  },
  {
   "cell_type": "markdown",
   "metadata": {},
   "source": [
    "3.\n",
    "\n",
    "From the Woodbury formula\n",
    "$$(A + UV^′)^{−1} = A^{−1} − A^{−1}U(I_m + V^′A^{−1}U)^{−1}V^′A^{−1},$$\n",
    "where $A \\in \\mathbb{R}^{n\\times n}, U,V \\in \\mathbb{R}^{n\\times m}$\n",
    "\n",
    "$(\\sigma_1^2ZZ^′ +\\sigma_0^2I_n)^{−1}=(\\sigma_0^2I_n)^{-1}-(\\sigma_0^2I_n)^{-1}\\sigma_1Z (I_m+\\sigma_1Z^{'}(\\sigma_0^2I_n)^{-1}\\sigma_1Z)^{-1}\\sigma_1Z^{'}(\\sigma_0^2I_n)^{-1}$\n",
    "\n",
    "Also using the fact\n",
    "$$\\text{det}(A+UV^′)=\\text{det}(A)\\text{det}(I_m +V^′A^{−1}U)$$\n",
    "\n",
    "$\\text{det}(\\sigma_1^2ZZ^′ +\\sigma_0^2I_n)=\\text{det}(\\sigma_0^2I_n)\\text{det}(I_m+\\sigma_1Z^{'}(\\sigma_0^2I_n)^{-1}\\sigma_1Z)$\n"
   ]
  },
  {
   "cell_type": "code",
   "execution_count": 124,
   "metadata": {},
   "outputs": [],
   "source": [
    "# 4\n",
    "def dmvnorm_lowrank(y, mu, Z, sigma0, sigma1, log = False):\n",
    "    U = sigma1*np.mat(Z)\n",
    "    V = sigma1*np.mat(Z)\n",
    "    VT= np.transpose(V)\n",
    "    n = np.shape(U)[0]\n",
    "    m = np.shape(U)[1]\n",
    "    A = sigma0**2*np.identity(n)\n",
    "\n",
    "    lemma = inv.det(A)*inv.det(np.identity(m)+inv.multi_dot([VT,inv.inv(A),U]))\n",
    "    wood = inv.inv(A)-inv.multi_dot([inv.inv(A),U,inv.inv(np.identity(m)+inv.multi_dot([VT,inv.inv(A),U])),VT,inv.inv(A)])\n",
    "    log_density = -n/2*np.log(2*math.pi)-1/2*np.log(lemma)-1/2*inv.multi_dot([np.transpose(y-mu),wood,(y-mu)])\n",
    "    if log == True:\n",
    "        return log_density\n",
    "    else:\n",
    "        return math.exp(log_density)\n"
   ]
  },
  {
   "cell_type": "code",
   "execution_count": 125,
   "metadata": {},
   "outputs": [
    {
     "data": {
      "text/plain": [
       "-219.91799434121356"
      ]
     },
     "execution_count": 125,
     "metadata": {},
     "output_type": "execute_result"
    }
   ],
   "source": [
    "#5\n",
    "dmvnorm_lowrank(y,mu,Z,sigma0,sigma1,True)"
   ]
  },
  {
   "cell_type": "code",
   "execution_count": 126,
   "metadata": {},
   "outputs": [
    {
     "data": {
      "text/plain": [
       "3.0961970062565645e-96"
      ]
     },
     "execution_count": 126,
     "metadata": {},
     "output_type": "execute_result"
    }
   ],
   "source": [
    "dmvnorm_lowrank(y,mu,Z,sigma0,sigma1)"
   ]
  },
  {
   "cell_type": "code",
   "execution_count": 127,
   "metadata": {},
   "outputs": [
    {
     "name": "stdout",
     "output_type": "stream",
     "text": [
      "-40.040529\n"
     ]
    }
   ],
   "source": [
    "# 6\n",
    "t0= time.process_time()\n",
    "stats.multivariate_normal.logpdf(y, mu, sigma)\n",
    "t1= time.process_time() - t0\n",
    "print(t1-t0)\n"
   ]
  },
  {
   "cell_type": "code",
   "execution_count": 128,
   "metadata": {},
   "outputs": [
    {
     "name": "stdout",
     "output_type": "stream",
     "text": [
      "-40.64315\n"
     ]
    }
   ],
   "source": [
    "t0= time.process_time()\n",
    "dmvnorm_lowrank(y,mu,Z,sigma0,sigma1,True)\n",
    "t1= time.process_time() - t0\n",
    "print(t1-t0)\n"
   ]
  },
  {
   "cell_type": "code",
   "execution_count": 133,
   "metadata": {},
   "outputs": [],
   "source": [
    "# 7\n",
    "np.random.seed(11)\n",
    "mu = np.random.randint(5, size=10000)\n",
    "Z = np.random.randint(5, size=(10000, 5))\n",
    "sigma0 = 2\n",
    "sigma1 = 1\n",
    "sigma = sigma1**2*np.mat(Z)*np.mat(np.transpose(Z))+sigma0**2*np.identity(10000)\n",
    "\n",
    "y = np.random.multivariate_normal(mu, sigma, size=None)\n"
   ]
  },
  {
   "cell_type": "code",
   "execution_count": 134,
   "metadata": {},
   "outputs": [
    {
     "name": "stdout",
     "output_type": "stream",
     "text": [
      "-980.7693210000002\n"
     ]
    }
   ],
   "source": [
    "t0= time.process_time()\n",
    "stats.multivariate_normal.logpdf(y, mu, sigma)\n",
    "t1= time.process_time() - t0\n",
    "print(t1-t0)"
   ]
  },
  {
   "cell_type": "code",
   "execution_count": 135,
   "metadata": {},
   "outputs": [
    {
     "name": "stdout",
     "output_type": "stream",
     "text": [
      "-947.7853340000001\n"
     ]
    }
   ],
   "source": [
    "t0= time.process_time()\n",
    "dmvnorm_lowrank(y,mu,Z,sigma0,sigma1,True)\n",
    "t1= time.process_time() - t0\n",
    "print(t1-t0)"
   ]
  },
  {
   "cell_type": "markdown",
   "metadata": {},
   "source": [
    "6. In class we learnt about the BLAS and how it has become a de facto standard for basic linear algebra operations. Both R and numpy use the BLAS and LAPACK libraries extensively to accelerate certain types of operations. Apart from \\*, %\\*%, **eigen**, and **qr**, find out two other common functions use the BLAS and LAPACK routines to speed up calculations.\n"
   ]
  },
  {
   "cell_type": "markdown",
   "metadata": {},
   "source": [
    "In `numpy`, linear algebra functions rely on `BLAS` and `LAPACK`. For example the function `numpy.linalg.matrix_power(a,n)`. This helps user to calculate the square matrix to the power n. Since this function uses matrix multiplication to get the result, it is `level 3 BLAS` subroutine which does matrix-matrix operations.\n"
   ]
  }
 ],
 "metadata": {
  "interpreter": {
   "hash": "aee8b7b246df8f9039afb4144a1f6fd8d2ca17a180786b69acc140d282b71a49"
  },
  "kernelspec": {
   "display_name": "Python 3.10.0 64-bit",
   "language": "python",
   "name": "python3"
  },
  "language_info": {
   "codemirror_mode": {
    "name": "ipython",
    "version": 3
   },
   "file_extension": ".py",
   "mimetype": "text/x-python",
   "name": "python",
   "nbconvert_exporter": "python",
   "pygments_lexer": "ipython3",
   "version": "3.8.8"
  },
  "orig_nbformat": 4
 },
 "nbformat": 4,
 "nbformat_minor": 2
}
