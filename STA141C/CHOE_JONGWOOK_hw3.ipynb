{
 "cells": [
  {
   "cell_type": "markdown",
   "metadata": {},
   "source": [
    "#### STA 141C - Big Data & High Performance Statistical Computing Spring 2022\n",
    "\n",
    "#### Homework # 3\n",
    "\n",
    "##### JONGWOOk CHOE\n",
    "\n",
    "##### March 21, 2022"
   ]
  },
  {
   "cell_type": "code",
   "execution_count": null,
   "metadata": {},
   "outputs": [],
   "source": [
    "# library\n"
   ]
  },
  {
   "cell_type": "markdown",
   "metadata": {},
   "source": [
    "1. Open the ucd-web folder from Piazza webpage. The folder contains two files U.txt and A.txt. U.txt lists the 500 URL names. A.txt is the 500 × 500 connectivity matrix. Read data into R or python. Once you read in the data, take the transpose of the dataset to obtain the A matrix.\n",
    "Compute summary statistics:\n",
    "\n",
    "* number of pages\n",
    "\n",
    "* number of edges (page links)\n",
    "\n",
    "* number of dangling nodes \n",
    "\n",
    "* max in-degree\n",
    "\n",
    "* max out-degree\n",
    "\n",
    "* visualize sparsity pattern of A"
   ]
  },
  {
   "cell_type": "code",
   "execution_count": null,
   "metadata": {},
   "outputs": [],
   "source": []
  },
  {
   "cell_type": "markdown",
   "metadata": {},
   "source": [
    "2. Set the teleportation parameter at $p$ = 0.85. Try the following methods to solve for $x$ using the ucd-web data and report the speed of each method. You may want to remove some strange URLs (it depends on you how to remove them as long as it makes sense)\n",
    "\n",
    "* Dense linear system solver: LU decomposition \n",
    "\n",
    "* Dense linear system solver: QR factorization\n",
    "\n",
    "* A simple iterative linear system solver such as Jacobi or Gauss-Seidel\n",
    "\n",
    "* Choose either a dense eigen-solver such as SVD or iterative method such as the power method\n",
    "\n",
    "* Comparing the computational speed for all the methods\n",
    "\n",
    "* List the top 20 ranked URLs you found for each method and comment on your findings.\n"
   ]
  },
  {
   "cell_type": "code",
   "execution_count": null,
   "metadata": {},
   "outputs": [],
   "source": []
  },
  {
   "cell_type": "markdown",
   "metadata": {},
   "source": [
    "As of Monday, 24 Jan 2022, there are at least 2.9 billion indexed webpages on internet according to http://www.worldwidewebsize.com/. Comment on whether each of these methods may or may not work for the PageRank problem at this scale."
   ]
  }
 ],
 "metadata": {
  "interpreter": {
   "hash": "3c178aea58de6e77b93b19ccdcc6dacff0444b89d2a7888d60013d84570d1a9a"
  },
  "kernelspec": {
   "display_name": "Python 3.8.8 ('base')",
   "language": "python",
   "name": "python3"
  },
  "language_info": {
   "name": "python",
   "version": "3.8.8"
  },
  "orig_nbformat": 4
 },
 "nbformat": 4,
 "nbformat_minor": 2
}
