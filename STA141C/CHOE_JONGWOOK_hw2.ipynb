{
 "cells": [
  {
   "cell_type": "markdown",
   "metadata": {},
   "source": [
    "#### STA 141C - Big Data & High Performance Statistical Computing Spring 2022\n",
    "\n",
    "#### Homework # 2\n",
    "\n",
    "##### JONGWOOk CHOE\n",
    "\n",
    "##### May 6, 2022"
   ]
  },
  {
   "cell_type": "code",
   "execution_count": 18,
   "metadata": {},
   "outputs": [],
   "source": [
    "# library\n",
    "import numpy as np\n",
    "import pandas as pd\n",
    "import scipy.linalg as sl\n",
    "from sklearn.linear_model import LinearRegression\n",
    "from scipy.linalg import cho_factor, cho_solve\n",
    "import matplotlib.pylab as plt\n",
    "import scipy.sparse as sparse\n",
    "import time\n",
    "import math\n"
   ]
  },
  {
   "cell_type": "markdown",
   "metadata": {},
   "source": [
    "1. Read in the ‘longley.dat’ with the response (number of people employed) in the first column and six explanatory variables in the other columns (GNP implicit price deflator, Gross National Product, number of unemployed, number of people in the armed forces, “noninstitutionalized” population % 14 years of age, year). Include an intercept in you model."
   ]
  },
  {
   "cell_type": "code",
   "execution_count": 19,
   "metadata": {},
   "outputs": [],
   "source": [
    "# Reading data using pandas\n",
    "longley = pd.read_csv(\"longley.dat\", header=None, delim_whitespace=True)"
   ]
  },
  {
   "cell_type": "code",
   "execution_count": 20,
   "metadata": {},
   "outputs": [
    {
     "data": {
      "text/html": [
       "<div>\n",
       "<style scoped>\n",
       "    .dataframe tbody tr th:only-of-type {\n",
       "        vertical-align: middle;\n",
       "    }\n",
       "\n",
       "    .dataframe tbody tr th {\n",
       "        vertical-align: top;\n",
       "    }\n",
       "\n",
       "    .dataframe thead th {\n",
       "        text-align: right;\n",
       "    }\n",
       "</style>\n",
       "<table border=\"1\" class=\"dataframe\">\n",
       "  <thead>\n",
       "    <tr style=\"text-align: right;\">\n",
       "      <th></th>\n",
       "      <th>number of people employed</th>\n",
       "      <th>GNP implicit price deflator</th>\n",
       "      <th>Gross National Product</th>\n",
       "      <th>number of unemployed</th>\n",
       "      <th>number of people in the armed forces</th>\n",
       "      <th>noninstitutionalized population</th>\n",
       "      <th>year</th>\n",
       "    </tr>\n",
       "  </thead>\n",
       "  <tbody>\n",
       "    <tr>\n",
       "      <th>0</th>\n",
       "      <td>60323</td>\n",
       "      <td>83.0</td>\n",
       "      <td>234289</td>\n",
       "      <td>2356</td>\n",
       "      <td>1590</td>\n",
       "      <td>107608</td>\n",
       "      <td>1947</td>\n",
       "    </tr>\n",
       "    <tr>\n",
       "      <th>1</th>\n",
       "      <td>61122</td>\n",
       "      <td>88.5</td>\n",
       "      <td>259426</td>\n",
       "      <td>2325</td>\n",
       "      <td>1456</td>\n",
       "      <td>108632</td>\n",
       "      <td>1948</td>\n",
       "    </tr>\n",
       "    <tr>\n",
       "      <th>2</th>\n",
       "      <td>60171</td>\n",
       "      <td>88.2</td>\n",
       "      <td>258054</td>\n",
       "      <td>3682</td>\n",
       "      <td>1616</td>\n",
       "      <td>109773</td>\n",
       "      <td>1949</td>\n",
       "    </tr>\n",
       "    <tr>\n",
       "      <th>3</th>\n",
       "      <td>61187</td>\n",
       "      <td>89.5</td>\n",
       "      <td>284599</td>\n",
       "      <td>3351</td>\n",
       "      <td>1650</td>\n",
       "      <td>110929</td>\n",
       "      <td>1950</td>\n",
       "    </tr>\n",
       "    <tr>\n",
       "      <th>4</th>\n",
       "      <td>63221</td>\n",
       "      <td>96.2</td>\n",
       "      <td>328975</td>\n",
       "      <td>2099</td>\n",
       "      <td>3099</td>\n",
       "      <td>112075</td>\n",
       "      <td>1951</td>\n",
       "    </tr>\n",
       "  </tbody>\n",
       "</table>\n",
       "</div>"
      ],
      "text/plain": [
       "   number of people employed  GNP implicit price deflator  \\\n",
       "0                      60323                         83.0   \n",
       "1                      61122                         88.5   \n",
       "2                      60171                         88.2   \n",
       "3                      61187                         89.5   \n",
       "4                      63221                         96.2   \n",
       "\n",
       "   Gross National Product  number of unemployed  \\\n",
       "0                  234289                  2356   \n",
       "1                  259426                  2325   \n",
       "2                  258054                  3682   \n",
       "3                  284599                  3351   \n",
       "4                  328975                  2099   \n",
       "\n",
       "   number of people in the armed forces  noninstitutionalized population  year  \n",
       "0                                  1590                           107608  1947  \n",
       "1                                  1456                           108632  1948  \n",
       "2                                  1616                           109773  1949  \n",
       "3                                  1650                           110929  1950  \n",
       "4                                  3099                           112075  1951  "
      ]
     },
     "execution_count": 20,
     "metadata": {},
     "output_type": "execute_result"
    }
   ],
   "source": [
    "# Renaming the columns \n",
    "longley.rename(columns={0:\"number of people employed\", 1:\"GNP implicit price deflator\", 2: \"Gross National Product\", 3:\"number of unemployed\",\n",
    "4: \"number of people in the armed forces\", 5: \"noninstitutionalized population\", 6: \"year\"}, inplace=True)\n",
    "\n",
    "longley.head()"
   ]
  },
  {
   "cell_type": "code",
   "execution_count": 21,
   "metadata": {},
   "outputs": [
    {
     "name": "stdout",
     "output_type": "stream",
     "text": [
      "[[ 1.50618723e+01 -3.58191793e-02 -2.02022980e+00 -1.03322687e+00\n",
      "  -5.11041057e-02  1.82915146e+03]]\n",
      "[-3482258.63459582]\n"
     ]
    }
   ],
   "source": [
    "# Linear Regression module\n",
    "lm = LinearRegression()\n",
    "\n",
    "# Y\n",
    "Y = longley.iloc[:,0:1]\n",
    "\n",
    "# X\n",
    "X = longley.iloc[:,1:]\n",
    "\n",
    "# fit data\n",
    "model = lm.fit(X, Y)\n",
    "\n",
    "\n",
    "print(model.coef_)\n",
    "print(model.intercept_)\n"
   ]
  },
  {
   "cell_type": "markdown",
   "metadata": {},
   "source": [
    "2. Assuming linear model $y \\sim N(X\\beta,\\sigma^2I),$ compute \n",
    "\n",
    "1) Regression coefficients $\\hat{\\beta} = (X^′X)^{−1}X^′y,$ \n",
    "2) Standard errors of $\\hat{\\beta} = \\sigma^2\\text{diag}((X^′X)^{−1}),$ and \n",
    "3) Variance estimate $\\hat{\\sigma}^2 = (Y -X^′\\hat{\\beta})′(Y -X^′\\hat{\\beta})$ \n",
    "\n",
    "using following methods: GE/LU decomposition, Cholesky decomposition, and QR decomposition, and compare the computation speed for each method. Please compute them directly using numerical linear algebra functions; you can use the “black-box” function (e.g., lm() in R or sklearn.linear model.LinearRegression in python) only to check your results. (Hint: chol2inv() function in R computes the inverse of a matrix from its Cholesky factor. In python, you may try cho solve())"
   ]
  },
  {
   "cell_type": "markdown",
   "metadata": {},
   "source": [
    "##### GE/LU  decomposition"
   ]
  },
  {
   "cell_type": "code",
   "execution_count": 22,
   "metadata": {},
   "outputs": [
    {
     "name": "stdout",
     "output_type": "stream",
     "text": [
      "[[     1.      83.  234289.    2356.    1590.  107608.    1947. ]\n",
      " [     1.      88.5 259426.    2325.    1456.  108632.    1948. ]\n",
      " [     1.      88.2 258054.    3682.    1616.  109773.    1949. ]\n",
      " [     1.      89.5 284599.    3351.    1650.  110929.    1950. ]\n",
      " [     1.      96.2 328975.    2099.    3099.  112075.    1951. ]\n",
      " [     1.      98.1 346999.    1932.    3594.  113270.    1952. ]\n",
      " [     1.      99.  365385.    1870.    3547.  115094.    1953. ]\n",
      " [     1.     100.  363112.    3578.    3350.  116219.    1954. ]\n",
      " [     1.     101.2 397469.    2904.    3048.  117388.    1955. ]\n",
      " [     1.     104.6 419180.    2822.    2857.  118734.    1956. ]\n",
      " [     1.     108.4 442769.    2936.    2798.  120445.    1957. ]\n",
      " [     1.     110.8 444546.    4681.    2637.  121950.    1958. ]\n",
      " [     1.     112.6 482704.    3813.    2552.  123366.    1959. ]\n",
      " [     1.     114.2 502601.    3931.    2514.  125368.    1960. ]\n",
      " [     1.     115.7 518173.    4806.    2572.  127852.    1961. ]\n",
      " [     1.     116.9 554894.    4007.    2827.  130081.    1962. ]]\n"
     ]
    }
   ],
   "source": [
    "# make array of A and b from the data\n",
    "A = longley.iloc[:,1:]\n",
    "b = longley.iloc[:,0:1]\n",
    "\n",
    "A = np.array(A)\n",
    "\n",
    "# add column of one for intercept\n",
    "ncol = np.array(np.repeat(1, len(A)))\n",
    "ncol = ncol.reshape(-1,1)\n",
    "# ncol.shape\n",
    "\n",
    "An = np.append(A, ncol, axis=1)\n",
    "\n",
    "An = An[:, [6,0,1,2,3,4,5]]\n",
    "\n",
    "\n",
    "\n",
    "print(np.array_str(An, precision=5, suppress_small=True))"
   ]
  },
  {
   "cell_type": "code",
   "execution_count": 23,
   "metadata": {},
   "outputs": [],
   "source": [
    "# forward substitution\n",
    "def forward_substitution(L, b):\n",
    "    \n",
    "    #Get number of rows\n",
    "    n = L.shape[0]\n",
    "    \n",
    "    #Allocating space for the solution vector\n",
    "    y = np.zeros_like(b, dtype=np.double);\n",
    "    \n",
    "    #Here we perform the forward-substitution.  \n",
    "    #Initializing  with the first row.\n",
    "    y[0] = b[0] / L[0, 0]\n",
    "    \n",
    "    #Looping over rows in reverse (from the bottom  up),\n",
    "    #starting with the second to last row, because  the \n",
    "    #last row solve was completed in the last step.\n",
    "    for i in range(1, n):\n",
    "        y[i] = (b[i] - np.dot(L[i,:i], y[:i])) / L[i,i]\n",
    "        \n",
    "    return y\n",
    "\n",
    "\n",
    "# backward substituion\n",
    "def back_substitution(U, y):\n",
    "    \n",
    "    #Number of rows\n",
    "    n = U.shape[0]\n",
    "    \n",
    "    #Allocating space for the solution vector\n",
    "    x = np.zeros_like(y, dtype=np.double);\n",
    "\n",
    "    #Here we perform the back-substitution.  \n",
    "    #Initializing with the last row.\n",
    "    x[-1] = y[-1] / U[-1, -1]\n",
    "    \n",
    "    #Looping over rows in reverse (from the bottom up), \n",
    "    #starting with the second to last row, because the \n",
    "    #last row solve was completed in the last step.\n",
    "    for i in range(n-2, -1, -1):\n",
    "        x[i] = (y[i] - np.dot(U[i,i:], x[i:])) / U[i,i]\n",
    "        \n",
    "    return x"
   ]
  },
  {
   "cell_type": "code",
   "execution_count": 24,
   "metadata": {},
   "outputs": [],
   "source": [
    "# X' * X\n",
    "Asq = np.dot(np.transpose(An),An)\n",
    "\n",
    "# Compute LU decomposition\n",
    "P, L, U = sl.lu(Asq)"
   ]
  },
  {
   "cell_type": "code",
   "execution_count": 25,
   "metadata": {},
   "outputs": [],
   "source": [
    "# X' * b\n",
    "B = np.dot(An.T, b)\n",
    "\n",
    "# P' * yhat (pivoting)\n",
    "Y = np.dot(P.T, B)"
   ]
  },
  {
   "cell_type": "code",
   "execution_count": 26,
   "metadata": {},
   "outputs": [
    {
     "name": "stdout",
     "output_type": "stream",
     "text": [
      "The regression coefficient betahat is : \n",
      "[[ 1.50618727e+01]\n",
      " [-3.58191799e-02]\n",
      " [-2.02022981e+00]\n",
      " [-1.03322687e+00]\n",
      " [-5.11041037e-02]\n",
      " [ 1.82915147e+03]]\n"
     ]
    }
   ],
   "source": [
    "# Compute forward subsitution for L(Ub) = P'* yhat\n",
    "Ub = forward_substitution(L, Y)\n",
    "\n",
    "# find a coefficient by backward substitution\n",
    "betahat = back_substitution(U, Ub)\n",
    "\n",
    "print(\"The regression coefficient betahat is : \")\n",
    "print(betahat[1:])"
   ]
  },
  {
   "cell_type": "code",
   "execution_count": 27,
   "metadata": {},
   "outputs": [],
   "source": [
    "def sterror(data):\n",
    "    return np.std(data, ddof=1) / np.sqrt(np.size(data))"
   ]
  },
  {
   "cell_type": "code",
   "execution_count": 28,
   "metadata": {},
   "outputs": [
    {
     "name": "stdout",
     "output_type": "stream",
     "text": [
      "The standard error is 304.4723404317628\n",
      "\n",
      "\n",
      "Variance is \n"
     ]
    },
    {
     "data": {
      "text/plain": [
       "array([[ 4.24431389e+12, -8.29486519e+07,  1.30284638e+05,\n",
       "         1.94619875e+06,  5.61468345e+05, -4.42559942e+05,\n",
       "        -2.17042820e+09],\n",
       "       [-8.29486520e+07,  3.85998285e+04, -9.88676650e+00,\n",
       "        -1.23216715e+02, -3.39755116e+01,  6.77412799e+01,\n",
       "         3.85696793e+04],\n",
       "       [ 1.30284638e+05, -9.88676649e+00,  6.00445701e-03,\n",
       "         8.28002681e-02,  1.80020602e-02, -3.37712290e-02,\n",
       "        -6.54658675e+01],\n",
       "       [ 1.94619875e+06, -1.23216715e+02,  8.28002681e-02,\n",
       "         1.27693283e+00,  3.46535916e-01, -4.48185498e-01,\n",
       "        -9.81388938e+02],\n",
       "       [ 5.61468345e+05, -3.39755116e+01,  1.80020602e-02,\n",
       "         3.46535916e-01,  2.45785876e-01, -4.89893272e-02,\n",
       "        -2.87023691e+02],\n",
       "       [-4.42559942e+05,  6.77412799e+01, -3.37712290e-02,\n",
       "        -4.48185498e-01, -4.89893272e-02,  2.73599607e-01,\n",
       "         2.13966085e+02],\n",
       "       [-2.17042820e+09,  3.85696792e+04, -6.54658675e+01,\n",
       "        -9.81388937e+02, -2.87023691e+02,  2.13966085e+02,\n",
       "         1.11058824e+06]])"
      ]
     },
     "execution_count": 28,
     "metadata": {},
     "output_type": "execute_result"
    }
   ],
   "source": [
    "LUste = sterror(betahat)\n",
    "\n",
    "LUvar = np.dot(LUste, np.linalg.inv(Asq))\n",
    "print(f\"The standard error is {sterror(betahat[1:])}\")\n",
    "\n",
    "print(\"\\n\")\n",
    "print(\"Variance is \")\n",
    "LUvar"
   ]
  },
  {
   "cell_type": "markdown",
   "metadata": {},
   "source": [
    "##### Cholesky decomposition"
   ]
  },
  {
   "cell_type": "code",
   "execution_count": 29,
   "metadata": {},
   "outputs": [
    {
     "data": {
      "text/plain": [
       "array([[-3.48225863e+06],\n",
       "       [ 1.50618723e+01],\n",
       "       [-3.58191793e-02],\n",
       "       [-2.02022980e+00],\n",
       "       [-1.03322687e+00],\n",
       "       [-5.11041056e-02],\n",
       "       [ 1.82915146e+03]])"
      ]
     },
     "execution_count": 29,
     "metadata": {},
     "output_type": "execute_result"
    }
   ],
   "source": [
    "# Compute cholesky factor first\n",
    "c, low = cho_factor(Asq)\n",
    "\n",
    "# Then compute betahat by using cho_solve function\n",
    "xhat = cho_solve((c, low), B)\n",
    "xhat"
   ]
  },
  {
   "cell_type": "code",
   "execution_count": 30,
   "metadata": {},
   "outputs": [
    {
     "name": "stdout",
     "output_type": "stream",
     "text": [
      "The regression coefficient betahat is : \n",
      "[[ 1.50618723e+01]\n",
      " [-3.58191793e-02]\n",
      " [-2.02022980e+00]\n",
      " [-1.03322687e+00]\n",
      " [-5.11041056e-02]\n",
      " [ 1.82915146e+03]]\n"
     ]
    }
   ],
   "source": [
    "print(\"The regression coefficient betahat is : \")\n",
    "print(xhat[1:])"
   ]
  },
  {
   "cell_type": "code",
   "execution_count": 31,
   "metadata": {},
   "outputs": [
    {
     "name": "stdout",
     "output_type": "stream",
     "text": [
      "The standard error is 304.4723388995521\n",
      "\n",
      "\n",
      "Variance is \n"
     ]
    },
    {
     "data": {
      "text/plain": [
       "array([[ 4.24431387e+12, -8.29486514e+07,  1.30284637e+05,\n",
       "         1.94619874e+06,  5.61468342e+05, -4.42559940e+05,\n",
       "        -2.17042819e+09],\n",
       "       [-8.29486516e+07,  3.85998283e+04, -9.88676645e+00,\n",
       "        -1.23216714e+02, -3.39755115e+01,  6.77412796e+01,\n",
       "         3.85696790e+04],\n",
       "       [ 1.30284638e+05, -9.88676644e+00,  6.00445697e-03,\n",
       "         8.28002677e-02,  1.80020601e-02, -3.37712288e-02,\n",
       "        -6.54658672e+01],\n",
       "       [ 1.94619874e+06, -1.23216714e+02,  8.28002677e-02,\n",
       "         1.27693282e+00,  3.46535914e-01, -4.48185496e-01,\n",
       "        -9.81388933e+02],\n",
       "       [ 5.61468342e+05, -3.39755115e+01,  1.80020601e-02,\n",
       "         3.46535914e-01,  2.45785874e-01, -4.89893269e-02,\n",
       "        -2.87023690e+02],\n",
       "       [-4.42559940e+05,  6.77412796e+01, -3.37712288e-02,\n",
       "        -4.48185496e-01, -4.89893270e-02,  2.73599606e-01,\n",
       "         2.13966084e+02],\n",
       "       [-2.17042819e+09,  3.85696790e+04, -6.54658672e+01,\n",
       "        -9.81388932e+02, -2.87023690e+02,  2.13966084e+02,\n",
       "         1.11058823e+06]])"
      ]
     },
     "execution_count": 31,
     "metadata": {},
     "output_type": "execute_result"
    }
   ],
   "source": [
    "chste = sterror(xhat)\n",
    "\n",
    "chvar = np.dot(chste, np.linalg.inv(Asq))\n",
    "\n",
    "\n",
    "print(f\"The standard error is {sterror(xhat[1:])}\")\n",
    "print(\"\\n\")\n",
    "\n",
    "print(\"Variance is \")\n",
    "chvar"
   ]
  },
  {
   "cell_type": "markdown",
   "metadata": {},
   "source": [
    "##### QR decomposition"
   ]
  },
  {
   "cell_type": "code",
   "execution_count": 32,
   "metadata": {},
   "outputs": [],
   "source": [
    "q, r = sl.qr(An)"
   ]
  },
  {
   "cell_type": "code",
   "execution_count": 33,
   "metadata": {},
   "outputs": [],
   "source": [
    "p = np.dot(q.T, np.array(b))\n",
    "xhat_qr = np.dot(np.linalg.pinv(r), p)"
   ]
  },
  {
   "cell_type": "code",
   "execution_count": 34,
   "metadata": {},
   "outputs": [
    {
     "name": "stdout",
     "output_type": "stream",
     "text": [
      "The regression coefficient betahat is : \n",
      "[[ 1.50618723e+01]\n",
      " [-3.58191793e-02]\n",
      " [-2.02022980e+00]\n",
      " [-1.03322687e+00]\n",
      " [-5.11041057e-02]\n",
      " [ 1.82915146e+03]]\n"
     ]
    }
   ],
   "source": [
    "print(\"The regression coefficient betahat is : \")\n",
    "print(xhat_qr[1:])"
   ]
  },
  {
   "cell_type": "code",
   "execution_count": 35,
   "metadata": {},
   "outputs": [
    {
     "name": "stdout",
     "output_type": "stream",
     "text": [
      "The standard error is 304.4723388907928\n",
      "\n",
      "\n",
      "Variance is \n"
     ]
    },
    {
     "data": {
      "text/plain": [
       "array([[ 4.24431387e+12, -8.29486514e+07,  1.30284637e+05,\n",
       "         1.94619874e+06,  5.61468342e+05, -4.42559940e+05,\n",
       "        -2.17042819e+09],\n",
       "       [-8.29486516e+07,  3.85998283e+04, -9.88676645e+00,\n",
       "        -1.23216714e+02, -3.39755115e+01,  6.77412796e+01,\n",
       "         3.85696790e+04],\n",
       "       [ 1.30284638e+05, -9.88676644e+00,  6.00445697e-03,\n",
       "         8.28002677e-02,  1.80020601e-02, -3.37712288e-02,\n",
       "        -6.54658672e+01],\n",
       "       [ 1.94619874e+06, -1.23216714e+02,  8.28002677e-02,\n",
       "         1.27693282e+00,  3.46535914e-01, -4.48185496e-01,\n",
       "        -9.81388933e+02],\n",
       "       [ 5.61468342e+05, -3.39755115e+01,  1.80020601e-02,\n",
       "         3.46535914e-01,  2.45785874e-01, -4.89893269e-02,\n",
       "        -2.87023690e+02],\n",
       "       [-4.42559940e+05,  6.77412796e+01, -3.37712288e-02,\n",
       "        -4.48185496e-01, -4.89893270e-02,  2.73599606e-01,\n",
       "         2.13966084e+02],\n",
       "       [-2.17042819e+09,  3.85696790e+04, -6.54658672e+01,\n",
       "        -9.81388932e+02, -2.87023690e+02,  2.13966084e+02,\n",
       "         1.11058823e+06]])"
      ]
     },
     "execution_count": 35,
     "metadata": {},
     "output_type": "execute_result"
    }
   ],
   "source": [
    "qrste = sterror(xhat)\n",
    "\n",
    "qrvar = np.dot(qrste, np.linalg.inv(Asq))\n",
    "print(f\"The standard error is {sterror(xhat_qr[1:])}\")\n",
    "print(\"\\n\")\n",
    "\n",
    "print(\"Variance is \")\n",
    "\n",
    "qrvar"
   ]
  },
  {
   "cell_type": "markdown",
   "metadata": {},
   "source": [
    "3. One popular regularization method is the ridge regression, which estimates regression coefficients by minimizing a penalized least squares criterion\n",
    "$$\\frac{1}{2}||y-X\\beta||^2_2+\\frac{\\lambda}{2}||\\beta||^2_2$$\n",
    "show that the ridge solution is given by\n",
    "$$\\hat{\\beta}_{\\lambda}=(X'X +\\lambda I_p)^{-1}X'y.$$"
   ]
  },
  {
   "cell_type": "markdown",
   "metadata": {},
   "source": [
    "To show the ridge solution is given by \n",
    "\n",
    "$$\\hat{\\beta}_\\lambda = (X'X + \\lambda I)^{-1}X^TY$$\n",
    "\n",
    "we need to solve that\n",
    "\n",
    "$$(Y - \\beta'X)'(Y - \\beta'X) + \\lambda\\beta'\\beta$$ \n",
    "\n",
    "$$ => Y^TY - 2\\beta'X'Y + \\beta^tX'X\\beta + \\lambda\\beta'\\beta  $$\n",
    "\n",
    "First, we differentiate the above equation.\n",
    "\n",
    "Then, we get\n",
    "\n",
    "\n",
    "$$-2X'Y + 2X'X\\beta + 2\\lambda\\beta $$\n",
    "\n",
    "Now, we have to solve it for 0 and then for $\\hat{\\beta}_\\lambda$ \n",
    "\n",
    "$$-2X'Y + 2X'X\\beta + 2\\lambda\\beta = 0 $$\n",
    "\n",
    "$$= -X'Y + X'X\\beta + \\lambda\\beta = 0 $$\n",
    "\n",
    "$$= X'X\\beta + \\lambda\\beta = X'Y  $$\n",
    "\n",
    "$$= (X'X + \\lambda I)\\beta = X'Y $$\n",
    "\n",
    "Hence, we have proved that\n",
    "\n",
    "$$ \\hat{\\beta}_\\lambda = (X'X + \\lambda I)^{-1}X'Y$$"
   ]
  },
  {
   "cell_type": "markdown",
   "metadata": {},
   "source": [
    "4. Compute the ridge regression estimates $\\hat{\\beta}_{lambda}$ at a set of different values of $\\lambda (\\text{e.g. }, 0, 1, 2, \\cdots , 100)$ by solving it as a least squares problem. Plot the $l_2$-norm of the ridge coefficients $||\\hat{\\beta}_{\\lambda}||$ as a function of $\\lambda$. You can use either QR or Cholesky method."
   ]
  },
  {
   "cell_type": "code",
   "execution_count": 36,
   "metadata": {},
   "outputs": [
    {
     "data": {
      "image/png": "[encoded data removed]",
      "text/plain": [
       "<Figure size 576x432 with 1 Axes>"
      ]
     },
     "metadata": {
      "needs_background": "light"
     },
     "output_type": "display_data"
    }
   ],
   "source": [
    "y = longley[['number of people employed']]\n",
    "x = longley.iloc[:,1:]     \n",
    "\n",
    "# create intercept \n",
    "itcpt = np.repeat(1,16).reshape(-1,1)\n",
    "\n",
    "x = np.append(x, itcpt, axis = 1)\n",
    "x = x[:,[6,0,1,2,3,4,5]]\n",
    "\n",
    "\n",
    "X = x.T.dot(x)\n",
    "Y = x.T.dot(y)\n",
    "\n",
    "# lambda from 1 to 100\n",
    "ly = np.arange(1,100,0.1) \n",
    "\n",
    "\n",
    "df = np.arange(1,8).reshape(1,-1) \n",
    "\n",
    "# compute and add penalty\n",
    "for i in ly:\n",
    "    pty = i * np.eye(7)\n",
    "    X = X + pty\n",
    "    c, low = cho_factor(X)\n",
    "    btas = cho_solve((c,low),Y).reshape(1,-1)\n",
    "    df = np.vstack((df, btas))\n",
    "\n",
    "# remove the first r.n given\n",
    "# combine to df\n",
    "df = pd.DataFrame(df[1:,:]) \n",
    "\n",
    "plt.figure(figsize = (8,6))\n",
    "plt.plot(ly, df[0], label='b_0')\n",
    "plt.plot(ly, df[1], label='b_1')\n",
    "plt.plot(ly, df[2], label='b_2')\n",
    "plt.plot(ly, df[3], label='b_3')\n",
    "plt.plot(ly, df[4], label='b_4')\n",
    "plt.plot(ly, df[5], label='b_5')\n",
    "plt.plot(ly, df[6], label='b_6')\n",
    "\n",
    "\n",
    "plt.legend()\n",
    "\n",
    "plt.xlabel('Lambda')\n",
    "plt.ylabel('Beta')\n",
    "\n",
    "\n",
    "plt.show()"
   ]
  },
  {
   "cell_type": "markdown",
   "metadata": {},
   "source": [
    "5. Implement your code using parallel computing."
   ]
  },
  {
   "cell_type": "code",
   "execution_count": null,
   "metadata": {},
   "outputs": [],
   "source": []
  },
  {
   "cell_type": "markdown",
   "metadata": {},
   "source": [
    "6. (Bonus 1 point) Find out which method is the lm() function in R is using? And which algorithm is being used? Or find out which method is the linear regression function (there are multiple, but only need to choose one) in numpy/scipy is using? And which algorithm is being used?"
   ]
  }
 ],
 "metadata": {
  "interpreter": {
   "hash": "3c178aea58de6e77b93b19ccdcc6dacff0444b89d2a7888d60013d84570d1a9a"
  },
  "kernelspec": {
   "display_name": "Python 3.8.8 ('base')",
   "language": "python",
   "name": "python3"
  },
  "language_info": {
   "codemirror_mode": {
    "name": "ipython",
    "version": 3
   },
   "file_extension": ".py",
   "mimetype": "text/x-python",
   "name": "python",
   "nbconvert_exporter": "python",
   "pygments_lexer": "ipython3",
   "version": "3.8.8"
  },
  "orig_nbformat": 4
 },
 "nbformat": 4,
 "nbformat_minor": 2
}
