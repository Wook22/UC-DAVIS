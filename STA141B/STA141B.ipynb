{
 "cells": [
  {
   "cell_type": "markdown",
   "id": "5018dc79",
   "metadata": {},
   "source": []
  },
  {
   "cell_type": "markdown",
   "id": "e826b267",
   "metadata": {},
   "source": [
    "**STA 141B FINAL PROJECT**"
   ]
  },
  {
   "cell_type": "markdown",
   "id": "f0f64538",
   "metadata": {},
   "source": [
    "hi."
   ]
  }
 ],
 "metadata": {
  "kernelspec": {
   "display_name": "Python 3",
   "language": "python",
   "name": "python3"
  },
  "language_info": {
   "codemirror_mode": {
    "name": "ipython",
    "version": 3
   },
   "file_extension": ".py",
   "mimetype": "text/x-python",
   "name": "python",
   "nbconvert_exporter": "python",
   "pygments_lexer": "ipython3",
   "version": "3.10.0"
  }
 },
 "nbformat": 4,
 "nbformat_minor": 5
}
