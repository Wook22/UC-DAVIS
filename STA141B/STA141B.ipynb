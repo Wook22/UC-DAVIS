{
 "cells": [
  {
   "cell_type": "markdown",
   "id": "5018dc79",
   "metadata": {},
   "source": []
  },
  {
   "cell_type": "markdown",
   "id": "e826b267",
   "metadata": {},
   "source": [
    "**STA 141B FINAL PROJECT**"
   ]
  },
  {
   "cell_type": "code",
   "execution_count": 2,
   "id": "39dd532e",
   "metadata": {},
   "outputs": [],
   "source": [
    "import glob\n",
    "import os\n",
    "import pandas as pd"
   ]
  },
  {
   "cell_type": "markdown",
   "id": "f0f64538",
   "metadata": {},
   "source": [
    "**Introduction**"
   ]
  },
  {
   "cell_type": "markdown",
   "id": "758b6c3f",
   "metadata": {},
   "source": []
  },
  {
   "cell_type": "markdown",
   "id": "767bb0bb",
   "metadata": {},
   "source": [
    "**Data exploration**"
   ]
  },
  {
   "cell_type": "code",
   "execution_count": 19,
   "id": "20eb2ae6",
   "metadata": {},
   "outputs": [
    {
     "data": {
      "text/html": [
       "<div>\n",
       "<style scoped>\n",
       "    .dataframe tbody tr th:only-of-type {\n",
       "        vertical-align: middle;\n",
       "    }\n",
       "\n",
       "    .dataframe tbody tr th {\n",
       "        vertical-align: top;\n",
       "    }\n",
       "\n",
       "    .dataframe thead th {\n",
       "        text-align: right;\n",
       "    }\n",
       "</style>\n",
       "<table border=\"1\" class=\"dataframe\">\n",
       "  <thead>\n",
       "    <tr style=\"text-align: right;\">\n",
       "      <th></th>\n",
       "      <th>1             1             1995         46.5</th>\n",
       "    </tr>\n",
       "  </thead>\n",
       "  <tbody>\n",
       "    <tr>\n",
       "      <th>0</th>\n",
       "      <td>1             2             1995         21.4</td>\n",
       "    </tr>\n",
       "    <tr>\n",
       "      <th>1</th>\n",
       "      <td>1             3             1995         20.7</td>\n",
       "    </tr>\n",
       "    <tr>\n",
       "      <th>2</th>\n",
       "      <td>1             4             1995         16.6</td>\n",
       "    </tr>\n",
       "    <tr>\n",
       "      <th>3</th>\n",
       "      <td>1             5             1995         11.0</td>\n",
       "    </tr>\n",
       "    <tr>\n",
       "      <th>4</th>\n",
       "      <td>1             6             1995         21.6</td>\n",
       "    </tr>\n",
       "    <tr>\n",
       "      <th>...</th>\n",
       "      <td>...</td>\n",
       "    </tr>\n",
       "    <tr>\n",
       "      <th>9259</th>\n",
       "      <td>5             9             2020         34.0</td>\n",
       "    </tr>\n",
       "    <tr>\n",
       "      <th>9260</th>\n",
       "      <td>5             10            2020         42.5</td>\n",
       "    </tr>\n",
       "    <tr>\n",
       "      <th>9261</th>\n",
       "      <td>5             11            2020         43.7</td>\n",
       "    </tr>\n",
       "    <tr>\n",
       "      <th>9262</th>\n",
       "      <td>5             12            2020         42.7</td>\n",
       "    </tr>\n",
       "    <tr>\n",
       "      <th>9263</th>\n",
       "      <td>5             13            2020         37.0</td>\n",
       "    </tr>\n",
       "  </tbody>\n",
       "</table>\n",
       "<p>9264 rows × 1 columns</p>\n",
       "</div>"
      ],
      "text/plain": [
       "       1             1             1995         46.5\n",
       "0      1             2             1995         21.4\n",
       "1      1             3             1995         20.7\n",
       "2      1             4             1995         16.6\n",
       "3      1             5             1995         11.0\n",
       "4      1             6             1995         21.6\n",
       "...                                              ...\n",
       "9259   5             9             2020         34.0\n",
       "9260   5             10            2020         42.5\n",
       "9261   5             11            2020         43.7\n",
       "9262   5             12            2020         42.7\n",
       "9263   5             13            2020         37.0\n",
       "\n",
       "[9264 rows x 1 columns]"
      ]
     },
     "execution_count": 19,
     "metadata": {},
     "output_type": "execute_result"
    }
   ],
   "source": [
    "filenames = glob.glob(os.path.join(os.getcwd(), \"/Users/wook/Downloads/STA141B FINAL/allsites/us\", \"*.txt\"))\n",
    "dataframes = []\n",
    "\n",
    "for f in filenames:\n",
    "    dataframes.append(pd.read_csv(f))\n",
    "\n",
    "dataframes[1]"
   ]
  },
  {
   "cell_type": "markdown",
   "id": "967f611f",
   "metadata": {},
   "source": []
  },
  {
   "cell_type": "markdown",
   "id": "3f2aace8",
   "metadata": {},
   "source": [
    "**Exporting data into SQL**"
   ]
  },
  {
   "cell_type": "code",
   "execution_count": null,
   "id": "5ac32f9c",
   "metadata": {},
   "outputs": [],
   "source": []
  },
  {
   "cell_type": "markdown",
   "id": "5d657c2a",
   "metadata": {},
   "source": [
    "**Visualization**"
   ]
  },
  {
   "cell_type": "code",
   "execution_count": null,
   "id": "d2313fad",
   "metadata": {},
   "outputs": [],
   "source": []
  },
  {
   "cell_type": "markdown",
   "id": "0ba437b4",
   "metadata": {},
   "source": [
    "**Data Analysis**"
   ]
  },
  {
   "cell_type": "code",
   "execution_count": null,
   "id": "f9988bb0",
   "metadata": {},
   "outputs": [],
   "source": []
  },
  {
   "cell_type": "markdown",
   "id": "ee213a68",
   "metadata": {},
   "source": [
    "**Conclusion**"
   ]
  },
  {
   "cell_type": "markdown",
   "id": "fb0d9039",
   "metadata": {},
   "source": []
  }
 ],
 "metadata": {
  "kernelspec": {
   "display_name": "Python 3",
   "language": "python",
   "name": "python3"
  },
  "language_info": {
   "codemirror_mode": {
    "name": "ipython",
    "version": 3
   },
   "file_extension": ".py",
   "mimetype": "text/x-python",
   "name": "python",
   "nbconvert_exporter": "python",
   "pygments_lexer": "ipython3",
   "version": "3.8.8"
  }
 },
 "nbformat": 4,
 "nbformat_minor": 5
}
